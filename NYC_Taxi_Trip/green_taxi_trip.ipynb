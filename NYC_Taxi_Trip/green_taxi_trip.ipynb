{
 "cells": [
  {
   "cell_type": "markdown",
   "metadata": {},
   "source": [
    "# Introduction"
   ]
  },
  {
   "cell_type": "markdown",
   "metadata": {},
   "source": [
    "This Data Science challenge is designed to analyze the December 2016 data for New York City Taxi and Limousine Commission Green Taxis.Here is the data source link:https://www1.nyc.gov/site/tlc/about/tlc-trip-record-data.page. EDA and day/hourly trip analysis done based on the available data. To identify what kind of trips yield better tip amount for the taxi drivers, Machine learning models have been applied and evaulated to identify the most important features. Additionaly anomaly detection identified on data pattern with vizualization."
   ]
  },
  {
   "cell_type": "code",
   "execution_count": 107,
   "metadata": {},
   "outputs": [],
   "source": [
    "#import python libraries\n",
    "%matplotlib inline\n",
    "import numpy as np\n",
    "import pandas as pd\n",
    "import seaborn as sns\n",
    "import scipy.stats as stats\n",
    "from scipy.stats import norm, skew\n",
    "from math import trunc\n",
    "import statsmodels.api as sm\n",
    "import matplotlib.pyplot as plt\n",
    "import warnings\n",
    "warnings.filterwarnings(action=\"ignore\")"
   ]
  },
  {
   "cell_type": "code",
   "execution_count": 373,
   "metadata": {},
   "outputs": [],
   "source": [
    "#Read the csv file an load data in dataframe\n",
    "green_tx=pd.read_csv('green_tripdata_2016-12.csv')"
   ]
  },
  {
   "cell_type": "code",
   "execution_count": 318,
   "metadata": {},
   "outputs": [
    {
     "data": {
      "text/html": [
       "<div>\n",
       "<style scoped>\n",
       "    .dataframe tbody tr th:only-of-type {\n",
       "        vertical-align: middle;\n",
       "    }\n",
       "\n",
       "    .dataframe tbody tr th {\n",
       "        vertical-align: top;\n",
       "    }\n",
       "\n",
       "    .dataframe thead th {\n",
       "        text-align: right;\n",
       "    }\n",
       "</style>\n",
       "<table border=\"1\" class=\"dataframe\">\n",
       "  <thead>\n",
       "    <tr style=\"text-align: right;\">\n",
       "      <th></th>\n",
       "      <th></th>\n",
       "      <th>VendorID</th>\n",
       "      <th>lpep_pickup_datetime</th>\n",
       "      <th>lpep_dropoff_datetime</th>\n",
       "      <th>store_and_fwd_flag</th>\n",
       "      <th>RatecodeID</th>\n",
       "      <th>PULocationID</th>\n",
       "      <th>DOLocationID</th>\n",
       "      <th>passenger_count</th>\n",
       "      <th>trip_distance</th>\n",
       "      <th>fare_amount</th>\n",
       "      <th>extra</th>\n",
       "      <th>mta_tax</th>\n",
       "      <th>tip_amount</th>\n",
       "      <th>tolls_amount</th>\n",
       "      <th>ehail_fee</th>\n",
       "      <th>improvement_surcharge</th>\n",
       "      <th>total_amount</th>\n",
       "      <th>payment_type</th>\n",
       "      <th>trip_type</th>\n",
       "    </tr>\n",
       "  </thead>\n",
       "  <tbody>\n",
       "    <tr>\n",
       "      <th rowspan=\"10\" valign=\"top\">2</th>\n",
       "      <th>2016-12-01 00:00:54</th>\n",
       "      <td>2016-12-01 00:06:54</td>\n",
       "      <td>N</td>\n",
       "      <td>1</td>\n",
       "      <td>92</td>\n",
       "      <td>192</td>\n",
       "      <td>1</td>\n",
       "      <td>1.29</td>\n",
       "      <td>6.5</td>\n",
       "      <td>0.5</td>\n",
       "      <td>0.5</td>\n",
       "      <td>0.00</td>\n",
       "      <td>0.0</td>\n",
       "      <td>NaN</td>\n",
       "      <td>0.3</td>\n",
       "      <td>7.80</td>\n",
       "      <td>2</td>\n",
       "      <td>1</td>\n",
       "      <td>NaN</td>\n",
       "      <td>NaN</td>\n",
       "    </tr>\n",
       "    <tr>\n",
       "      <th>2016-12-01 00:52:41</th>\n",
       "      <td>2016-12-01 00:54:51</td>\n",
       "      <td>N</td>\n",
       "      <td>1</td>\n",
       "      <td>92</td>\n",
       "      <td>171</td>\n",
       "      <td>1</td>\n",
       "      <td>0.64</td>\n",
       "      <td>4.0</td>\n",
       "      <td>0.5</td>\n",
       "      <td>0.5</td>\n",
       "      <td>1.06</td>\n",
       "      <td>0.0</td>\n",
       "      <td>NaN</td>\n",
       "      <td>0.3</td>\n",
       "      <td>6.36</td>\n",
       "      <td>1</td>\n",
       "      <td>1</td>\n",
       "      <td>NaN</td>\n",
       "      <td>NaN</td>\n",
       "    </tr>\n",
       "    <tr>\n",
       "      <th>2016-12-01 00:10:39</th>\n",
       "      <td>2016-12-01 00:14:47</td>\n",
       "      <td>N</td>\n",
       "      <td>1</td>\n",
       "      <td>75</td>\n",
       "      <td>238</td>\n",
       "      <td>2</td>\n",
       "      <td>0.89</td>\n",
       "      <td>5.5</td>\n",
       "      <td>0.5</td>\n",
       "      <td>0.5</td>\n",
       "      <td>1.70</td>\n",
       "      <td>0.0</td>\n",
       "      <td>NaN</td>\n",
       "      <td>0.3</td>\n",
       "      <td>8.50</td>\n",
       "      <td>1</td>\n",
       "      <td>1</td>\n",
       "      <td>NaN</td>\n",
       "      <td>NaN</td>\n",
       "    </tr>\n",
       "    <tr>\n",
       "      <th>2016-12-01 00:12:16</th>\n",
       "      <td>2016-12-01 00:15:31</td>\n",
       "      <td>N</td>\n",
       "      <td>1</td>\n",
       "      <td>166</td>\n",
       "      <td>151</td>\n",
       "      <td>1</td>\n",
       "      <td>0.66</td>\n",
       "      <td>4.5</td>\n",
       "      <td>0.5</td>\n",
       "      <td>0.5</td>\n",
       "      <td>1.74</td>\n",
       "      <td>0.0</td>\n",
       "      <td>NaN</td>\n",
       "      <td>0.3</td>\n",
       "      <td>7.54</td>\n",
       "      <td>1</td>\n",
       "      <td>1</td>\n",
       "      <td>NaN</td>\n",
       "      <td>NaN</td>\n",
       "    </tr>\n",
       "    <tr>\n",
       "      <th>2016-12-01 00:29:22</th>\n",
       "      <td>2016-12-01 00:39:51</td>\n",
       "      <td>N</td>\n",
       "      <td>1</td>\n",
       "      <td>166</td>\n",
       "      <td>42</td>\n",
       "      <td>1</td>\n",
       "      <td>2.15</td>\n",
       "      <td>9.5</td>\n",
       "      <td>0.5</td>\n",
       "      <td>0.5</td>\n",
       "      <td>2.16</td>\n",
       "      <td>0.0</td>\n",
       "      <td>NaN</td>\n",
       "      <td>0.3</td>\n",
       "      <td>12.96</td>\n",
       "      <td>1</td>\n",
       "      <td>1</td>\n",
       "      <td>NaN</td>\n",
       "      <td>NaN</td>\n",
       "    </tr>\n",
       "    <tr>\n",
       "      <th>2016-12-01 00:42:02</th>\n",
       "      <td>2016-12-01 00:52:19</td>\n",
       "      <td>N</td>\n",
       "      <td>1</td>\n",
       "      <td>42</td>\n",
       "      <td>151</td>\n",
       "      <td>1</td>\n",
       "      <td>2.82</td>\n",
       "      <td>11.0</td>\n",
       "      <td>0.5</td>\n",
       "      <td>0.5</td>\n",
       "      <td>0.00</td>\n",
       "      <td>0.0</td>\n",
       "      <td>NaN</td>\n",
       "      <td>0.3</td>\n",
       "      <td>12.30</td>\n",
       "      <td>1</td>\n",
       "      <td>1</td>\n",
       "      <td>NaN</td>\n",
       "      <td>NaN</td>\n",
       "    </tr>\n",
       "    <tr>\n",
       "      <th>2016-12-01 00:16:59</th>\n",
       "      <td>2016-12-01 00:21:03</td>\n",
       "      <td>N</td>\n",
       "      <td>1</td>\n",
       "      <td>179</td>\n",
       "      <td>179</td>\n",
       "      <td>1</td>\n",
       "      <td>0.68</td>\n",
       "      <td>5.0</td>\n",
       "      <td>0.5</td>\n",
       "      <td>0.5</td>\n",
       "      <td>0.00</td>\n",
       "      <td>0.0</td>\n",
       "      <td>NaN</td>\n",
       "      <td>0.3</td>\n",
       "      <td>6.30</td>\n",
       "      <td>2</td>\n",
       "      <td>1</td>\n",
       "      <td>NaN</td>\n",
       "      <td>NaN</td>\n",
       "    </tr>\n",
       "    <tr>\n",
       "      <th>2016-12-01 00:48:04</th>\n",
       "      <td>2016-12-01 00:59:40</td>\n",
       "      <td>N</td>\n",
       "      <td>1</td>\n",
       "      <td>179</td>\n",
       "      <td>129</td>\n",
       "      <td>1</td>\n",
       "      <td>2.62</td>\n",
       "      <td>11.5</td>\n",
       "      <td>0.5</td>\n",
       "      <td>0.5</td>\n",
       "      <td>0.00</td>\n",
       "      <td>0.0</td>\n",
       "      <td>NaN</td>\n",
       "      <td>0.3</td>\n",
       "      <td>12.80</td>\n",
       "      <td>2</td>\n",
       "      <td>1</td>\n",
       "      <td>NaN</td>\n",
       "      <td>NaN</td>\n",
       "    </tr>\n",
       "    <tr>\n",
       "      <th>2016-12-01 00:04:23</th>\n",
       "      <td>2016-12-01 00:06:43</td>\n",
       "      <td>N</td>\n",
       "      <td>1</td>\n",
       "      <td>82</td>\n",
       "      <td>82</td>\n",
       "      <td>1</td>\n",
       "      <td>0.52</td>\n",
       "      <td>4.0</td>\n",
       "      <td>0.5</td>\n",
       "      <td>0.5</td>\n",
       "      <td>0.00</td>\n",
       "      <td>0.0</td>\n",
       "      <td>NaN</td>\n",
       "      <td>0.3</td>\n",
       "      <td>5.30</td>\n",
       "      <td>2</td>\n",
       "      <td>1</td>\n",
       "      <td>NaN</td>\n",
       "      <td>NaN</td>\n",
       "    </tr>\n",
       "    <tr>\n",
       "      <th>2016-12-01 00:34:43</th>\n",
       "      <td>2016-12-01 00:54:09</td>\n",
       "      <td>N</td>\n",
       "      <td>1</td>\n",
       "      <td>85</td>\n",
       "      <td>77</td>\n",
       "      <td>1</td>\n",
       "      <td>4.63</td>\n",
       "      <td>17.0</td>\n",
       "      <td>0.5</td>\n",
       "      <td>0.5</td>\n",
       "      <td>0.00</td>\n",
       "      <td>0.0</td>\n",
       "      <td>NaN</td>\n",
       "      <td>0.3</td>\n",
       "      <td>18.30</td>\n",
       "      <td>2</td>\n",
       "      <td>1</td>\n",
       "      <td>NaN</td>\n",
       "      <td>NaN</td>\n",
       "    </tr>\n",
       "  </tbody>\n",
       "</table>\n",
       "</div>"
      ],
      "text/plain": [
       "                                  VendorID lpep_pickup_datetime  \\\n",
       "2 2016-12-01 00:00:54  2016-12-01 00:06:54                    N   \n",
       "  2016-12-01 00:52:41  2016-12-01 00:54:51                    N   \n",
       "  2016-12-01 00:10:39  2016-12-01 00:14:47                    N   \n",
       "  2016-12-01 00:12:16  2016-12-01 00:15:31                    N   \n",
       "  2016-12-01 00:29:22  2016-12-01 00:39:51                    N   \n",
       "  2016-12-01 00:42:02  2016-12-01 00:52:19                    N   \n",
       "  2016-12-01 00:16:59  2016-12-01 00:21:03                    N   \n",
       "  2016-12-01 00:48:04  2016-12-01 00:59:40                    N   \n",
       "  2016-12-01 00:04:23  2016-12-01 00:06:43                    N   \n",
       "  2016-12-01 00:34:43  2016-12-01 00:54:09                    N   \n",
       "\n",
       "                       lpep_dropoff_datetime  store_and_fwd_flag  RatecodeID  \\\n",
       "2 2016-12-01 00:00:54                      1                  92         192   \n",
       "  2016-12-01 00:52:41                      1                  92         171   \n",
       "  2016-12-01 00:10:39                      1                  75         238   \n",
       "  2016-12-01 00:12:16                      1                 166         151   \n",
       "  2016-12-01 00:29:22                      1                 166          42   \n",
       "  2016-12-01 00:42:02                      1                  42         151   \n",
       "  2016-12-01 00:16:59                      1                 179         179   \n",
       "  2016-12-01 00:48:04                      1                 179         129   \n",
       "  2016-12-01 00:04:23                      1                  82          82   \n",
       "  2016-12-01 00:34:43                      1                  85          77   \n",
       "\n",
       "                       PULocationID  DOLocationID  passenger_count  \\\n",
       "2 2016-12-01 00:00:54             1          1.29              6.5   \n",
       "  2016-12-01 00:52:41             1          0.64              4.0   \n",
       "  2016-12-01 00:10:39             2          0.89              5.5   \n",
       "  2016-12-01 00:12:16             1          0.66              4.5   \n",
       "  2016-12-01 00:29:22             1          2.15              9.5   \n",
       "  2016-12-01 00:42:02             1          2.82             11.0   \n",
       "  2016-12-01 00:16:59             1          0.68              5.0   \n",
       "  2016-12-01 00:48:04             1          2.62             11.5   \n",
       "  2016-12-01 00:04:23             1          0.52              4.0   \n",
       "  2016-12-01 00:34:43             1          4.63             17.0   \n",
       "\n",
       "                       trip_distance  fare_amount  extra  mta_tax  tip_amount  \\\n",
       "2 2016-12-01 00:00:54            0.5          0.5   0.00      0.0         NaN   \n",
       "  2016-12-01 00:52:41            0.5          0.5   1.06      0.0         NaN   \n",
       "  2016-12-01 00:10:39            0.5          0.5   1.70      0.0         NaN   \n",
       "  2016-12-01 00:12:16            0.5          0.5   1.74      0.0         NaN   \n",
       "  2016-12-01 00:29:22            0.5          0.5   2.16      0.0         NaN   \n",
       "  2016-12-01 00:42:02            0.5          0.5   0.00      0.0         NaN   \n",
       "  2016-12-01 00:16:59            0.5          0.5   0.00      0.0         NaN   \n",
       "  2016-12-01 00:48:04            0.5          0.5   0.00      0.0         NaN   \n",
       "  2016-12-01 00:04:23            0.5          0.5   0.00      0.0         NaN   \n",
       "  2016-12-01 00:34:43            0.5          0.5   0.00      0.0         NaN   \n",
       "\n",
       "                       tolls_amount  ehail_fee  improvement_surcharge  \\\n",
       "2 2016-12-01 00:00:54           0.3       7.80                      2   \n",
       "  2016-12-01 00:52:41           0.3       6.36                      1   \n",
       "  2016-12-01 00:10:39           0.3       8.50                      1   \n",
       "  2016-12-01 00:12:16           0.3       7.54                      1   \n",
       "  2016-12-01 00:29:22           0.3      12.96                      1   \n",
       "  2016-12-01 00:42:02           0.3      12.30                      1   \n",
       "  2016-12-01 00:16:59           0.3       6.30                      2   \n",
       "  2016-12-01 00:48:04           0.3      12.80                      2   \n",
       "  2016-12-01 00:04:23           0.3       5.30                      2   \n",
       "  2016-12-01 00:34:43           0.3      18.30                      2   \n",
       "\n",
       "                       total_amount  payment_type  trip_type  \n",
       "2 2016-12-01 00:00:54             1           NaN        NaN  \n",
       "  2016-12-01 00:52:41             1           NaN        NaN  \n",
       "  2016-12-01 00:10:39             1           NaN        NaN  \n",
       "  2016-12-01 00:12:16             1           NaN        NaN  \n",
       "  2016-12-01 00:29:22             1           NaN        NaN  \n",
       "  2016-12-01 00:42:02             1           NaN        NaN  \n",
       "  2016-12-01 00:16:59             1           NaN        NaN  \n",
       "  2016-12-01 00:48:04             1           NaN        NaN  \n",
       "  2016-12-01 00:04:23             1           NaN        NaN  \n",
       "  2016-12-01 00:34:43             1           NaN        NaN  "
      ]
     },
     "execution_count": 318,
     "metadata": {},
     "output_type": "execute_result"
    }
   ],
   "source": [
    "#Check the csv data\n",
    "green_tx.head(10)"
   ]
  },
  {
   "cell_type": "code",
   "execution_count": 19,
   "metadata": {},
   "outputs": [
    {
     "data": {
      "text/plain": [
       "Index(['VendorID', 'lpep_pickup_datetime', 'lpep_dropoff_datetime',\n",
       "       'store_and_fwd_flag', 'RatecodeID', 'PULocationID', 'DOLocationID',\n",
       "       'passenger_count', 'trip_distance', 'fare_amount', 'extra', 'mta_tax',\n",
       "       'tip_amount', 'tolls_amount', 'ehail_fee', 'improvement_surcharge',\n",
       "       'total_amount', 'payment_type', 'trip_type'],\n",
       "      dtype='object')"
      ]
     },
     "execution_count": 19,
     "metadata": {},
     "output_type": "execute_result"
    }
   ],
   "source": [
    "# Check the columns of the dataframe\n",
    "green_tx.columns"
   ]
  },
  {
   "cell_type": "code",
   "execution_count": 21,
   "metadata": {},
   "outputs": [
    {
     "data": {
      "text/plain": [
       "MultiIndex([(2, '2016-12-01 00:00:54'),\n",
       "            (2, '2016-12-01 00:52:41'),\n",
       "            (2, '2016-12-01 00:10:39'),\n",
       "            (2, '2016-12-01 00:12:16'),\n",
       "            (2, '2016-12-01 00:29:22'),\n",
       "            (2, '2016-12-01 00:42:02'),\n",
       "            (2, '2016-12-01 00:16:59'),\n",
       "            (2, '2016-12-01 00:48:04'),\n",
       "            (2, '2016-12-01 00:04:23'),\n",
       "            (2, '2016-12-01 00:34:43'),\n",
       "            ...\n",
       "            (1, '2016-12-31 23:00:36'),\n",
       "            (1, '2016-12-31 23:00:35'),\n",
       "            (1, '2016-12-31 23:00:31'),\n",
       "            (1, '2016-12-31 23:00:22'),\n",
       "            (1, '2016-12-31 23:00:22'),\n",
       "            (1, '2016-12-31 23:00:16'),\n",
       "            (1, '2016-12-31 23:00:20'),\n",
       "            (1, '2016-12-31 23:00:08'),\n",
       "            (1, '2016-12-31 23:00:00'),\n",
       "            (1, '2016-12-31 23:00:10')],\n",
       "           length=1224158)"
      ]
     },
     "execution_count": 21,
     "metadata": {},
     "output_type": "execute_result"
    }
   ],
   "source": [
    "# Check the index of the dataframe\n",
    "green_tx.index"
   ]
  },
  {
   "cell_type": "markdown",
   "metadata": {},
   "source": [
    "Multiindex found which needs to be reset to access all column data properly"
   ]
  },
  {
   "cell_type": "code",
   "execution_count": 22,
   "metadata": {},
   "outputs": [
    {
     "data": {
      "text/plain": [
       "VendorID                  object\n",
       "lpep_pickup_datetime      object\n",
       "lpep_dropoff_datetime      int64\n",
       "store_and_fwd_flag         int64\n",
       "RatecodeID                 int64\n",
       "PULocationID               int64\n",
       "DOLocationID             float64\n",
       "passenger_count          float64\n",
       "trip_distance            float64\n",
       "fare_amount              float64\n",
       "extra                    float64\n",
       "mta_tax                  float64\n",
       "tip_amount               float64\n",
       "tolls_amount             float64\n",
       "ehail_fee                float64\n",
       "improvement_surcharge      int64\n",
       "total_amount               int64\n",
       "payment_type             float64\n",
       "trip_type                float64\n",
       "dtype: object"
      ]
     },
     "execution_count": 22,
     "metadata": {},
     "output_type": "execute_result"
    }
   ],
   "source": [
    "green_tx.dtypes"
   ]
  },
  {
   "cell_type": "code",
   "execution_count": 319,
   "metadata": {},
   "outputs": [
    {
     "data": {
      "text/plain": [
       "(1224158, 19)"
      ]
     },
     "execution_count": 319,
     "metadata": {},
     "output_type": "execute_result"
    }
   ],
   "source": [
    "#Check the shape of the dataset\n",
    "green_tx.shape"
   ]
  },
  {
   "cell_type": "code",
   "execution_count": 374,
   "metadata": {},
   "outputs": [],
   "source": [
    "# resetting index to have the original index to remove multiindex and column names rearanged accordingly\n",
    "green_tx = green_tx.reset_index()\n",
    "green_tx = green_tx.iloc[:,:19]\n",
    "green_tx.columns = ['VendorID','lpep_pickup_datetime','lpep_dropoff_datetime','store_and_fwd_flag','RatecodeID','PULocationID',\n",
    "                   'DOLocationID','passenger_count','trip_distance','fare_amount','extra','mta_tax','tip_amount','tolls_amount',\n",
    "                   'ehail_fee','improvement_surcharge','total_amount','payment_type','trip_type']"
   ]
  },
  {
   "cell_type": "code",
   "execution_count": 377,
   "metadata": {},
   "outputs": [
    {
     "data": {
      "text/html": [
       "<div>\n",
       "<style scoped>\n",
       "    .dataframe tbody tr th:only-of-type {\n",
       "        vertical-align: middle;\n",
       "    }\n",
       "\n",
       "    .dataframe tbody tr th {\n",
       "        vertical-align: top;\n",
       "    }\n",
       "\n",
       "    .dataframe thead th {\n",
       "        text-align: right;\n",
       "    }\n",
       "</style>\n",
       "<table border=\"1\" class=\"dataframe\">\n",
       "  <thead>\n",
       "    <tr style=\"text-align: right;\">\n",
       "      <th></th>\n",
       "      <th>VendorID</th>\n",
       "      <th>lpep_pickup_datetime</th>\n",
       "      <th>lpep_dropoff_datetime</th>\n",
       "      <th>store_and_fwd_flag</th>\n",
       "      <th>RatecodeID</th>\n",
       "      <th>PULocationID</th>\n",
       "      <th>DOLocationID</th>\n",
       "      <th>passenger_count</th>\n",
       "      <th>trip_distance</th>\n",
       "      <th>fare_amount</th>\n",
       "      <th>extra</th>\n",
       "      <th>mta_tax</th>\n",
       "      <th>tip_amount</th>\n",
       "      <th>tolls_amount</th>\n",
       "      <th>ehail_fee</th>\n",
       "      <th>improvement_surcharge</th>\n",
       "      <th>total_amount</th>\n",
       "      <th>payment_type</th>\n",
       "      <th>trip_type</th>\n",
       "    </tr>\n",
       "  </thead>\n",
       "  <tbody>\n",
       "    <tr>\n",
       "      <th>0</th>\n",
       "      <td>2</td>\n",
       "      <td>2016-12-01 00:00:54</td>\n",
       "      <td>2016-12-01 00:06:54</td>\n",
       "      <td>N</td>\n",
       "      <td>1</td>\n",
       "      <td>92</td>\n",
       "      <td>192</td>\n",
       "      <td>1</td>\n",
       "      <td>1.29</td>\n",
       "      <td>6.5</td>\n",
       "      <td>0.5</td>\n",
       "      <td>0.5</td>\n",
       "      <td>0.00</td>\n",
       "      <td>0.0</td>\n",
       "      <td>NaN</td>\n",
       "      <td>0.3</td>\n",
       "      <td>7.80</td>\n",
       "      <td>2</td>\n",
       "      <td>1</td>\n",
       "    </tr>\n",
       "    <tr>\n",
       "      <th>1</th>\n",
       "      <td>2</td>\n",
       "      <td>2016-12-01 00:52:41</td>\n",
       "      <td>2016-12-01 00:54:51</td>\n",
       "      <td>N</td>\n",
       "      <td>1</td>\n",
       "      <td>92</td>\n",
       "      <td>171</td>\n",
       "      <td>1</td>\n",
       "      <td>0.64</td>\n",
       "      <td>4.0</td>\n",
       "      <td>0.5</td>\n",
       "      <td>0.5</td>\n",
       "      <td>1.06</td>\n",
       "      <td>0.0</td>\n",
       "      <td>NaN</td>\n",
       "      <td>0.3</td>\n",
       "      <td>6.36</td>\n",
       "      <td>1</td>\n",
       "      <td>1</td>\n",
       "    </tr>\n",
       "    <tr>\n",
       "      <th>2</th>\n",
       "      <td>2</td>\n",
       "      <td>2016-12-01 00:10:39</td>\n",
       "      <td>2016-12-01 00:14:47</td>\n",
       "      <td>N</td>\n",
       "      <td>1</td>\n",
       "      <td>75</td>\n",
       "      <td>238</td>\n",
       "      <td>2</td>\n",
       "      <td>0.89</td>\n",
       "      <td>5.5</td>\n",
       "      <td>0.5</td>\n",
       "      <td>0.5</td>\n",
       "      <td>1.70</td>\n",
       "      <td>0.0</td>\n",
       "      <td>NaN</td>\n",
       "      <td>0.3</td>\n",
       "      <td>8.50</td>\n",
       "      <td>1</td>\n",
       "      <td>1</td>\n",
       "    </tr>\n",
       "    <tr>\n",
       "      <th>3</th>\n",
       "      <td>2</td>\n",
       "      <td>2016-12-01 00:12:16</td>\n",
       "      <td>2016-12-01 00:15:31</td>\n",
       "      <td>N</td>\n",
       "      <td>1</td>\n",
       "      <td>166</td>\n",
       "      <td>151</td>\n",
       "      <td>1</td>\n",
       "      <td>0.66</td>\n",
       "      <td>4.5</td>\n",
       "      <td>0.5</td>\n",
       "      <td>0.5</td>\n",
       "      <td>1.74</td>\n",
       "      <td>0.0</td>\n",
       "      <td>NaN</td>\n",
       "      <td>0.3</td>\n",
       "      <td>7.54</td>\n",
       "      <td>1</td>\n",
       "      <td>1</td>\n",
       "    </tr>\n",
       "    <tr>\n",
       "      <th>4</th>\n",
       "      <td>2</td>\n",
       "      <td>2016-12-01 00:29:22</td>\n",
       "      <td>2016-12-01 00:39:51</td>\n",
       "      <td>N</td>\n",
       "      <td>1</td>\n",
       "      <td>166</td>\n",
       "      <td>42</td>\n",
       "      <td>1</td>\n",
       "      <td>2.15</td>\n",
       "      <td>9.5</td>\n",
       "      <td>0.5</td>\n",
       "      <td>0.5</td>\n",
       "      <td>2.16</td>\n",
       "      <td>0.0</td>\n",
       "      <td>NaN</td>\n",
       "      <td>0.3</td>\n",
       "      <td>12.96</td>\n",
       "      <td>1</td>\n",
       "      <td>1</td>\n",
       "    </tr>\n",
       "  </tbody>\n",
       "</table>\n",
       "</div>"
      ],
      "text/plain": [
       "   VendorID lpep_pickup_datetime lpep_dropoff_datetime store_and_fwd_flag  \\\n",
       "0         2  2016-12-01 00:00:54   2016-12-01 00:06:54                  N   \n",
       "1         2  2016-12-01 00:52:41   2016-12-01 00:54:51                  N   \n",
       "2         2  2016-12-01 00:10:39   2016-12-01 00:14:47                  N   \n",
       "3         2  2016-12-01 00:12:16   2016-12-01 00:15:31                  N   \n",
       "4         2  2016-12-01 00:29:22   2016-12-01 00:39:51                  N   \n",
       "\n",
       "   RatecodeID  PULocationID  DOLocationID  passenger_count  trip_distance  \\\n",
       "0           1            92           192                1           1.29   \n",
       "1           1            92           171                1           0.64   \n",
       "2           1            75           238                2           0.89   \n",
       "3           1           166           151                1           0.66   \n",
       "4           1           166            42                1           2.15   \n",
       "\n",
       "   fare_amount  extra  mta_tax  tip_amount  tolls_amount  ehail_fee  \\\n",
       "0          6.5    0.5      0.5        0.00           0.0        NaN   \n",
       "1          4.0    0.5      0.5        1.06           0.0        NaN   \n",
       "2          5.5    0.5      0.5        1.70           0.0        NaN   \n",
       "3          4.5    0.5      0.5        1.74           0.0        NaN   \n",
       "4          9.5    0.5      0.5        2.16           0.0        NaN   \n",
       "\n",
       "   improvement_surcharge  total_amount  payment_type  trip_type  \n",
       "0                    0.3          7.80             2          1  \n",
       "1                    0.3          6.36             1          1  \n",
       "2                    0.3          8.50             1          1  \n",
       "3                    0.3          7.54             1          1  \n",
       "4                    0.3         12.96             1          1  "
      ]
     },
     "execution_count": 377,
     "metadata": {},
     "output_type": "execute_result"
    }
   ],
   "source": [
    "# Check the dataset\n",
    "green_tx.sample(5)"
   ]
  },
  {
   "cell_type": "markdown",
   "metadata": {},
   "source": [
    "The dataset contain 1.22M records with 19 features"
   ]
  },
  {
   "cell_type": "code",
   "execution_count": 28,
   "metadata": {},
   "outputs": [
    {
     "name": "stdout",
     "output_type": "stream",
     "text": [
      "<class 'pandas.core.frame.DataFrame'>\n",
      "RangeIndex: 1224158 entries, 0 to 1224157\n",
      "Data columns (total 19 columns):\n",
      " #   Column                 Non-Null Count    Dtype  \n",
      "---  ------                 --------------    -----  \n",
      " 0   VendorID               1224158 non-null  int64  \n",
      " 1   lpep_pickup_datetime   1224158 non-null  object \n",
      " 2   lpep_dropoff_datetime  1224158 non-null  object \n",
      " 3   store_and_fwd_flag     1224158 non-null  object \n",
      " 4   RatecodeID             1224158 non-null  int64  \n",
      " 5   PULocationID           1224158 non-null  int64  \n",
      " 6   DOLocationID           1224158 non-null  int64  \n",
      " 7   passenger_count        1224158 non-null  int64  \n",
      " 8   trip_distance          1224158 non-null  float64\n",
      " 9   fare_amount            1224158 non-null  float64\n",
      " 10  extra                  1224158 non-null  float64\n",
      " 11  mta_tax                1224158 non-null  float64\n",
      " 12  tip_amount             1224158 non-null  float64\n",
      " 13  tolls_amount           1224158 non-null  float64\n",
      " 14  ehail_fee              0 non-null        float64\n",
      " 15  improvement_surcharge  1224158 non-null  float64\n",
      " 16  total_amount           1224158 non-null  float64\n",
      " 17  payment_type           1224158 non-null  int64  \n",
      " 18  trip_type              1224158 non-null  int64  \n",
      "dtypes: float64(9), int64(7), object(3)\n",
      "memory usage: 177.5+ MB\n"
     ]
    }
   ],
   "source": [
    "#Check the datatypes of the columns\n",
    "green_tx.info()"
   ]
  },
  {
   "cell_type": "markdown",
   "metadata": {},
   "source": [
    "Some observations based on dataset:\n",
    "\n",
    " 1.vendor_id is nominal\n",
    " 2. The column store_and_fwd_flag is categorical\n",
    " 3.The columns pickup_datetime and dropoff_datetime are stored as object which needs be converted to datetime for analysis."
   ]
  },
  {
   "cell_type": "code",
   "execution_count": 29,
   "metadata": {},
   "outputs": [
    {
     "data": {
      "text/html": [
       "<div>\n",
       "<style scoped>\n",
       "    .dataframe tbody tr th:only-of-type {\n",
       "        vertical-align: middle;\n",
       "    }\n",
       "\n",
       "    .dataframe tbody tr th {\n",
       "        vertical-align: top;\n",
       "    }\n",
       "\n",
       "    .dataframe thead th {\n",
       "        text-align: right;\n",
       "    }\n",
       "</style>\n",
       "<table border=\"1\" class=\"dataframe\">\n",
       "  <thead>\n",
       "    <tr style=\"text-align: right;\">\n",
       "      <th></th>\n",
       "      <th>VendorID</th>\n",
       "      <th>RatecodeID</th>\n",
       "      <th>PULocationID</th>\n",
       "      <th>DOLocationID</th>\n",
       "      <th>passenger_count</th>\n",
       "      <th>trip_distance</th>\n",
       "      <th>fare_amount</th>\n",
       "      <th>extra</th>\n",
       "      <th>mta_tax</th>\n",
       "      <th>tip_amount</th>\n",
       "      <th>tolls_amount</th>\n",
       "      <th>ehail_fee</th>\n",
       "      <th>improvement_surcharge</th>\n",
       "      <th>total_amount</th>\n",
       "      <th>payment_type</th>\n",
       "      <th>trip_type</th>\n",
       "    </tr>\n",
       "  </thead>\n",
       "  <tbody>\n",
       "    <tr>\n",
       "      <th>count</th>\n",
       "      <td>1.224158e+06</td>\n",
       "      <td>1.224158e+06</td>\n",
       "      <td>1.224158e+06</td>\n",
       "      <td>1.224158e+06</td>\n",
       "      <td>1.224158e+06</td>\n",
       "      <td>1.224158e+06</td>\n",
       "      <td>1.224158e+06</td>\n",
       "      <td>1.224158e+06</td>\n",
       "      <td>1.224158e+06</td>\n",
       "      <td>1.224158e+06</td>\n",
       "      <td>1.224158e+06</td>\n",
       "      <td>0.0</td>\n",
       "      <td>1.224158e+06</td>\n",
       "      <td>1.224158e+06</td>\n",
       "      <td>1.224158e+06</td>\n",
       "      <td>1.224158e+06</td>\n",
       "    </tr>\n",
       "    <tr>\n",
       "      <th>mean</th>\n",
       "      <td>1.799278e+00</td>\n",
       "      <td>1.085079e+00</td>\n",
       "      <td>1.131729e+02</td>\n",
       "      <td>1.290862e+02</td>\n",
       "      <td>1.362447e+00</td>\n",
       "      <td>2.618179e+00</td>\n",
       "      <td>1.159368e+01</td>\n",
       "      <td>3.629562e-01</td>\n",
       "      <td>4.872578e-01</td>\n",
       "      <td>1.128787e+00</td>\n",
       "      <td>9.456725e-02</td>\n",
       "      <td>NaN</td>\n",
       "      <td>2.925184e-01</td>\n",
       "      <td>1.399902e+01</td>\n",
       "      <td>1.534862e+00</td>\n",
       "      <td>1.019722e+00</td>\n",
       "    </tr>\n",
       "    <tr>\n",
       "      <th>std</th>\n",
       "      <td>4.005404e-01</td>\n",
       "      <td>5.660195e-01</td>\n",
       "      <td>7.628387e+01</td>\n",
       "      <td>7.723367e+01</td>\n",
       "      <td>1.036924e+00</td>\n",
       "      <td>2.806160e+00</td>\n",
       "      <td>9.793499e+00</td>\n",
       "      <td>3.901575e-01</td>\n",
       "      <td>8.517500e-02</td>\n",
       "      <td>2.216306e+00</td>\n",
       "      <td>8.808537e-01</td>\n",
       "      <td>NaN</td>\n",
       "      <td>5.072935e-02</td>\n",
       "      <td>1.112872e+01</td>\n",
       "      <td>5.240995e-01</td>\n",
       "      <td>1.390438e-01</td>\n",
       "    </tr>\n",
       "    <tr>\n",
       "      <th>min</th>\n",
       "      <td>1.000000e+00</td>\n",
       "      <td>1.000000e+00</td>\n",
       "      <td>1.000000e+00</td>\n",
       "      <td>1.000000e+00</td>\n",
       "      <td>0.000000e+00</td>\n",
       "      <td>0.000000e+00</td>\n",
       "      <td>-4.990000e+02</td>\n",
       "      <td>-4.500000e+00</td>\n",
       "      <td>-5.000000e-01</td>\n",
       "      <td>-1.056000e+01</td>\n",
       "      <td>-8.540000e+00</td>\n",
       "      <td>NaN</td>\n",
       "      <td>-3.000000e-01</td>\n",
       "      <td>-4.990000e+02</td>\n",
       "      <td>1.000000e+00</td>\n",
       "      <td>1.000000e+00</td>\n",
       "    </tr>\n",
       "    <tr>\n",
       "      <th>25%</th>\n",
       "      <td>2.000000e+00</td>\n",
       "      <td>1.000000e+00</td>\n",
       "      <td>4.900000e+01</td>\n",
       "      <td>6.100000e+01</td>\n",
       "      <td>1.000000e+00</td>\n",
       "      <td>9.800000e-01</td>\n",
       "      <td>6.000000e+00</td>\n",
       "      <td>0.000000e+00</td>\n",
       "      <td>5.000000e-01</td>\n",
       "      <td>0.000000e+00</td>\n",
       "      <td>0.000000e+00</td>\n",
       "      <td>NaN</td>\n",
       "      <td>3.000000e-01</td>\n",
       "      <td>7.800000e+00</td>\n",
       "      <td>1.000000e+00</td>\n",
       "      <td>1.000000e+00</td>\n",
       "    </tr>\n",
       "    <tr>\n",
       "      <th>50%</th>\n",
       "      <td>2.000000e+00</td>\n",
       "      <td>1.000000e+00</td>\n",
       "      <td>8.300000e+01</td>\n",
       "      <td>1.290000e+02</td>\n",
       "      <td>1.000000e+00</td>\n",
       "      <td>1.700000e+00</td>\n",
       "      <td>9.000000e+00</td>\n",
       "      <td>5.000000e-01</td>\n",
       "      <td>5.000000e-01</td>\n",
       "      <td>0.000000e+00</td>\n",
       "      <td>0.000000e+00</td>\n",
       "      <td>NaN</td>\n",
       "      <td>3.000000e-01</td>\n",
       "      <td>1.080000e+01</td>\n",
       "      <td>2.000000e+00</td>\n",
       "      <td>1.000000e+00</td>\n",
       "    </tr>\n",
       "    <tr>\n",
       "      <th>75%</th>\n",
       "      <td>2.000000e+00</td>\n",
       "      <td>1.000000e+00</td>\n",
       "      <td>1.730000e+02</td>\n",
       "      <td>1.930000e+02</td>\n",
       "      <td>1.000000e+00</td>\n",
       "      <td>3.200000e+00</td>\n",
       "      <td>1.400000e+01</td>\n",
       "      <td>5.000000e-01</td>\n",
       "      <td>5.000000e-01</td>\n",
       "      <td>1.860000e+00</td>\n",
       "      <td>0.000000e+00</td>\n",
       "      <td>NaN</td>\n",
       "      <td>3.000000e-01</td>\n",
       "      <td>1.656000e+01</td>\n",
       "      <td>2.000000e+00</td>\n",
       "      <td>1.000000e+00</td>\n",
       "    </tr>\n",
       "    <tr>\n",
       "      <th>max</th>\n",
       "      <td>2.000000e+00</td>\n",
       "      <td>6.000000e+00</td>\n",
       "      <td>2.650000e+02</td>\n",
       "      <td>2.650000e+02</td>\n",
       "      <td>9.000000e+00</td>\n",
       "      <td>1.475000e+02</td>\n",
       "      <td>1.007000e+03</td>\n",
       "      <td>4.500000e+00</td>\n",
       "      <td>5.000000e-01</td>\n",
       "      <td>2.507000e+02</td>\n",
       "      <td>2.979800e+02</td>\n",
       "      <td>NaN</td>\n",
       "      <td>3.000000e-01</td>\n",
       "      <td>1.008300e+03</td>\n",
       "      <td>5.000000e+00</td>\n",
       "      <td>2.000000e+00</td>\n",
       "    </tr>\n",
       "  </tbody>\n",
       "</table>\n",
       "</div>"
      ],
      "text/plain": [
       "           VendorID    RatecodeID  PULocationID  DOLocationID  \\\n",
       "count  1.224158e+06  1.224158e+06  1.224158e+06  1.224158e+06   \n",
       "mean   1.799278e+00  1.085079e+00  1.131729e+02  1.290862e+02   \n",
       "std    4.005404e-01  5.660195e-01  7.628387e+01  7.723367e+01   \n",
       "min    1.000000e+00  1.000000e+00  1.000000e+00  1.000000e+00   \n",
       "25%    2.000000e+00  1.000000e+00  4.900000e+01  6.100000e+01   \n",
       "50%    2.000000e+00  1.000000e+00  8.300000e+01  1.290000e+02   \n",
       "75%    2.000000e+00  1.000000e+00  1.730000e+02  1.930000e+02   \n",
       "max    2.000000e+00  6.000000e+00  2.650000e+02  2.650000e+02   \n",
       "\n",
       "       passenger_count  trip_distance   fare_amount         extra  \\\n",
       "count     1.224158e+06   1.224158e+06  1.224158e+06  1.224158e+06   \n",
       "mean      1.362447e+00   2.618179e+00  1.159368e+01  3.629562e-01   \n",
       "std       1.036924e+00   2.806160e+00  9.793499e+00  3.901575e-01   \n",
       "min       0.000000e+00   0.000000e+00 -4.990000e+02 -4.500000e+00   \n",
       "25%       1.000000e+00   9.800000e-01  6.000000e+00  0.000000e+00   \n",
       "50%       1.000000e+00   1.700000e+00  9.000000e+00  5.000000e-01   \n",
       "75%       1.000000e+00   3.200000e+00  1.400000e+01  5.000000e-01   \n",
       "max       9.000000e+00   1.475000e+02  1.007000e+03  4.500000e+00   \n",
       "\n",
       "            mta_tax    tip_amount  tolls_amount  ehail_fee  \\\n",
       "count  1.224158e+06  1.224158e+06  1.224158e+06        0.0   \n",
       "mean   4.872578e-01  1.128787e+00  9.456725e-02        NaN   \n",
       "std    8.517500e-02  2.216306e+00  8.808537e-01        NaN   \n",
       "min   -5.000000e-01 -1.056000e+01 -8.540000e+00        NaN   \n",
       "25%    5.000000e-01  0.000000e+00  0.000000e+00        NaN   \n",
       "50%    5.000000e-01  0.000000e+00  0.000000e+00        NaN   \n",
       "75%    5.000000e-01  1.860000e+00  0.000000e+00        NaN   \n",
       "max    5.000000e-01  2.507000e+02  2.979800e+02        NaN   \n",
       "\n",
       "       improvement_surcharge  total_amount  payment_type     trip_type  \n",
       "count           1.224158e+06  1.224158e+06  1.224158e+06  1.224158e+06  \n",
       "mean            2.925184e-01  1.399902e+01  1.534862e+00  1.019722e+00  \n",
       "std             5.072935e-02  1.112872e+01  5.240995e-01  1.390438e-01  \n",
       "min            -3.000000e-01 -4.990000e+02  1.000000e+00  1.000000e+00  \n",
       "25%             3.000000e-01  7.800000e+00  1.000000e+00  1.000000e+00  \n",
       "50%             3.000000e-01  1.080000e+01  2.000000e+00  1.000000e+00  \n",
       "75%             3.000000e-01  1.656000e+01  2.000000e+00  1.000000e+00  \n",
       "max             3.000000e-01  1.008300e+03  5.000000e+00  2.000000e+00  "
      ]
     },
     "execution_count": 29,
     "metadata": {},
     "output_type": "execute_result"
    }
   ],
   "source": [
    "# Analyzing the  statistics of numeric columns\n",
    "green_tx.describe()"
   ]
  },
  {
   "cell_type": "markdown",
   "metadata": {},
   "source": [
    "The above table gives certain insights like:\n",
    "\n",
    "1. Except ehain_fee, no feature has missing data.\n",
    "2.The passenger count varies between 0 to 9, wuth an avergage count of 1-2 passengers.\n",
    "3. The average trip distance looks like 2 - 3 miles.\n",
    "4. The average tip amount comes like $2 - $3."
   ]
  },
  {
   "cell_type": "code",
   "execution_count": 378,
   "metadata": {},
   "outputs": [],
   "source": [
    "#Converting pick up and drop_off features to datetime \n",
    "green_tx['lpep_pickup_datetime']=pd.to_datetime(green_tx['lpep_pickup_datetime'])\n",
    "green_tx['lpep_dropoff_datetime']=pd.to_datetime(green_tx['lpep_dropoff_datetime'])"
   ]
  },
  {
   "cell_type": "code",
   "execution_count": 379,
   "metadata": {},
   "outputs": [],
   "source": [
    "# New column trip_duration added calculating the difference between drop-off and pick-up time and coverting to seconds\n",
    "green_tx['trip_duration']= green_tx['lpep_dropoff_datetime'] - green_tx['lpep_pickup_datetime']\n",
    "green_tx['trip_duration'] = pd.to_timedelta(green_tx['trip_duration']).dt.total_seconds()\n",
    "green_tx['trip_duration']=green_tx['trip_duration'].astype(int)"
   ]
  },
  {
   "cell_type": "code",
   "execution_count": 327,
   "metadata": {},
   "outputs": [
    {
     "data": {
      "text/html": [
       "<div>\n",
       "<style scoped>\n",
       "    .dataframe tbody tr th:only-of-type {\n",
       "        vertical-align: middle;\n",
       "    }\n",
       "\n",
       "    .dataframe tbody tr th {\n",
       "        vertical-align: top;\n",
       "    }\n",
       "\n",
       "    .dataframe thead th {\n",
       "        text-align: right;\n",
       "    }\n",
       "</style>\n",
       "<table border=\"1\" class=\"dataframe\">\n",
       "  <thead>\n",
       "    <tr style=\"text-align: right;\">\n",
       "      <th></th>\n",
       "      <th>VendorID</th>\n",
       "      <th>lpep_pickup_datetime</th>\n",
       "      <th>lpep_dropoff_datetime</th>\n",
       "      <th>store_and_fwd_flag</th>\n",
       "      <th>RatecodeID</th>\n",
       "      <th>PULocationID</th>\n",
       "      <th>DOLocationID</th>\n",
       "      <th>passenger_count</th>\n",
       "      <th>trip_distance</th>\n",
       "      <th>fare_amount</th>\n",
       "      <th>extra</th>\n",
       "      <th>mta_tax</th>\n",
       "      <th>tip_amount</th>\n",
       "      <th>tolls_amount</th>\n",
       "      <th>ehail_fee</th>\n",
       "      <th>improvement_surcharge</th>\n",
       "      <th>total_amount</th>\n",
       "      <th>payment_type</th>\n",
       "      <th>trip_type</th>\n",
       "      <th>trip_duration</th>\n",
       "    </tr>\n",
       "  </thead>\n",
       "  <tbody>\n",
       "    <tr>\n",
       "      <th>0</th>\n",
       "      <td>2</td>\n",
       "      <td>2016-12-01 00:00:54</td>\n",
       "      <td>2016-12-01 00:06:54</td>\n",
       "      <td>N</td>\n",
       "      <td>1</td>\n",
       "      <td>92</td>\n",
       "      <td>192</td>\n",
       "      <td>1</td>\n",
       "      <td>1.29</td>\n",
       "      <td>6.5</td>\n",
       "      <td>0.5</td>\n",
       "      <td>0.5</td>\n",
       "      <td>0.00</td>\n",
       "      <td>0.0</td>\n",
       "      <td>NaN</td>\n",
       "      <td>0.3</td>\n",
       "      <td>7.80</td>\n",
       "      <td>2</td>\n",
       "      <td>1</td>\n",
       "      <td>360.0</td>\n",
       "    </tr>\n",
       "    <tr>\n",
       "      <th>1</th>\n",
       "      <td>2</td>\n",
       "      <td>2016-12-01 00:52:41</td>\n",
       "      <td>2016-12-01 00:54:51</td>\n",
       "      <td>N</td>\n",
       "      <td>1</td>\n",
       "      <td>92</td>\n",
       "      <td>171</td>\n",
       "      <td>1</td>\n",
       "      <td>0.64</td>\n",
       "      <td>4.0</td>\n",
       "      <td>0.5</td>\n",
       "      <td>0.5</td>\n",
       "      <td>1.06</td>\n",
       "      <td>0.0</td>\n",
       "      <td>NaN</td>\n",
       "      <td>0.3</td>\n",
       "      <td>6.36</td>\n",
       "      <td>1</td>\n",
       "      <td>1</td>\n",
       "      <td>130.0</td>\n",
       "    </tr>\n",
       "    <tr>\n",
       "      <th>2</th>\n",
       "      <td>2</td>\n",
       "      <td>2016-12-01 00:10:39</td>\n",
       "      <td>2016-12-01 00:14:47</td>\n",
       "      <td>N</td>\n",
       "      <td>1</td>\n",
       "      <td>75</td>\n",
       "      <td>238</td>\n",
       "      <td>2</td>\n",
       "      <td>0.89</td>\n",
       "      <td>5.5</td>\n",
       "      <td>0.5</td>\n",
       "      <td>0.5</td>\n",
       "      <td>1.70</td>\n",
       "      <td>0.0</td>\n",
       "      <td>NaN</td>\n",
       "      <td>0.3</td>\n",
       "      <td>8.50</td>\n",
       "      <td>1</td>\n",
       "      <td>1</td>\n",
       "      <td>248.0</td>\n",
       "    </tr>\n",
       "    <tr>\n",
       "      <th>3</th>\n",
       "      <td>2</td>\n",
       "      <td>2016-12-01 00:12:16</td>\n",
       "      <td>2016-12-01 00:15:31</td>\n",
       "      <td>N</td>\n",
       "      <td>1</td>\n",
       "      <td>166</td>\n",
       "      <td>151</td>\n",
       "      <td>1</td>\n",
       "      <td>0.66</td>\n",
       "      <td>4.5</td>\n",
       "      <td>0.5</td>\n",
       "      <td>0.5</td>\n",
       "      <td>1.74</td>\n",
       "      <td>0.0</td>\n",
       "      <td>NaN</td>\n",
       "      <td>0.3</td>\n",
       "      <td>7.54</td>\n",
       "      <td>1</td>\n",
       "      <td>1</td>\n",
       "      <td>195.0</td>\n",
       "    </tr>\n",
       "    <tr>\n",
       "      <th>4</th>\n",
       "      <td>2</td>\n",
       "      <td>2016-12-01 00:29:22</td>\n",
       "      <td>2016-12-01 00:39:51</td>\n",
       "      <td>N</td>\n",
       "      <td>1</td>\n",
       "      <td>166</td>\n",
       "      <td>42</td>\n",
       "      <td>1</td>\n",
       "      <td>2.15</td>\n",
       "      <td>9.5</td>\n",
       "      <td>0.5</td>\n",
       "      <td>0.5</td>\n",
       "      <td>2.16</td>\n",
       "      <td>0.0</td>\n",
       "      <td>NaN</td>\n",
       "      <td>0.3</td>\n",
       "      <td>12.96</td>\n",
       "      <td>1</td>\n",
       "      <td>1</td>\n",
       "      <td>629.0</td>\n",
       "    </tr>\n",
       "    <tr>\n",
       "      <th>5</th>\n",
       "      <td>2</td>\n",
       "      <td>2016-12-01 00:42:02</td>\n",
       "      <td>2016-12-01 00:52:19</td>\n",
       "      <td>N</td>\n",
       "      <td>1</td>\n",
       "      <td>42</td>\n",
       "      <td>151</td>\n",
       "      <td>1</td>\n",
       "      <td>2.82</td>\n",
       "      <td>11.0</td>\n",
       "      <td>0.5</td>\n",
       "      <td>0.5</td>\n",
       "      <td>0.00</td>\n",
       "      <td>0.0</td>\n",
       "      <td>NaN</td>\n",
       "      <td>0.3</td>\n",
       "      <td>12.30</td>\n",
       "      <td>1</td>\n",
       "      <td>1</td>\n",
       "      <td>617.0</td>\n",
       "    </tr>\n",
       "    <tr>\n",
       "      <th>6</th>\n",
       "      <td>2</td>\n",
       "      <td>2016-12-01 00:16:59</td>\n",
       "      <td>2016-12-01 00:21:03</td>\n",
       "      <td>N</td>\n",
       "      <td>1</td>\n",
       "      <td>179</td>\n",
       "      <td>179</td>\n",
       "      <td>1</td>\n",
       "      <td>0.68</td>\n",
       "      <td>5.0</td>\n",
       "      <td>0.5</td>\n",
       "      <td>0.5</td>\n",
       "      <td>0.00</td>\n",
       "      <td>0.0</td>\n",
       "      <td>NaN</td>\n",
       "      <td>0.3</td>\n",
       "      <td>6.30</td>\n",
       "      <td>2</td>\n",
       "      <td>1</td>\n",
       "      <td>244.0</td>\n",
       "    </tr>\n",
       "    <tr>\n",
       "      <th>7</th>\n",
       "      <td>2</td>\n",
       "      <td>2016-12-01 00:48:04</td>\n",
       "      <td>2016-12-01 00:59:40</td>\n",
       "      <td>N</td>\n",
       "      <td>1</td>\n",
       "      <td>179</td>\n",
       "      <td>129</td>\n",
       "      <td>1</td>\n",
       "      <td>2.62</td>\n",
       "      <td>11.5</td>\n",
       "      <td>0.5</td>\n",
       "      <td>0.5</td>\n",
       "      <td>0.00</td>\n",
       "      <td>0.0</td>\n",
       "      <td>NaN</td>\n",
       "      <td>0.3</td>\n",
       "      <td>12.80</td>\n",
       "      <td>2</td>\n",
       "      <td>1</td>\n",
       "      <td>696.0</td>\n",
       "    </tr>\n",
       "    <tr>\n",
       "      <th>8</th>\n",
       "      <td>2</td>\n",
       "      <td>2016-12-01 00:04:23</td>\n",
       "      <td>2016-12-01 00:06:43</td>\n",
       "      <td>N</td>\n",
       "      <td>1</td>\n",
       "      <td>82</td>\n",
       "      <td>82</td>\n",
       "      <td>1</td>\n",
       "      <td>0.52</td>\n",
       "      <td>4.0</td>\n",
       "      <td>0.5</td>\n",
       "      <td>0.5</td>\n",
       "      <td>0.00</td>\n",
       "      <td>0.0</td>\n",
       "      <td>NaN</td>\n",
       "      <td>0.3</td>\n",
       "      <td>5.30</td>\n",
       "      <td>2</td>\n",
       "      <td>1</td>\n",
       "      <td>140.0</td>\n",
       "    </tr>\n",
       "    <tr>\n",
       "      <th>9</th>\n",
       "      <td>2</td>\n",
       "      <td>2016-12-01 00:34:43</td>\n",
       "      <td>2016-12-01 00:54:09</td>\n",
       "      <td>N</td>\n",
       "      <td>1</td>\n",
       "      <td>85</td>\n",
       "      <td>77</td>\n",
       "      <td>1</td>\n",
       "      <td>4.63</td>\n",
       "      <td>17.0</td>\n",
       "      <td>0.5</td>\n",
       "      <td>0.5</td>\n",
       "      <td>0.00</td>\n",
       "      <td>0.0</td>\n",
       "      <td>NaN</td>\n",
       "      <td>0.3</td>\n",
       "      <td>18.30</td>\n",
       "      <td>2</td>\n",
       "      <td>1</td>\n",
       "      <td>1166.0</td>\n",
       "    </tr>\n",
       "  </tbody>\n",
       "</table>\n",
       "</div>"
      ],
      "text/plain": [
       "   VendorID lpep_pickup_datetime lpep_dropoff_datetime store_and_fwd_flag  \\\n",
       "0         2  2016-12-01 00:00:54   2016-12-01 00:06:54                  N   \n",
       "1         2  2016-12-01 00:52:41   2016-12-01 00:54:51                  N   \n",
       "2         2  2016-12-01 00:10:39   2016-12-01 00:14:47                  N   \n",
       "3         2  2016-12-01 00:12:16   2016-12-01 00:15:31                  N   \n",
       "4         2  2016-12-01 00:29:22   2016-12-01 00:39:51                  N   \n",
       "5         2  2016-12-01 00:42:02   2016-12-01 00:52:19                  N   \n",
       "6         2  2016-12-01 00:16:59   2016-12-01 00:21:03                  N   \n",
       "7         2  2016-12-01 00:48:04   2016-12-01 00:59:40                  N   \n",
       "8         2  2016-12-01 00:04:23   2016-12-01 00:06:43                  N   \n",
       "9         2  2016-12-01 00:34:43   2016-12-01 00:54:09                  N   \n",
       "\n",
       "   RatecodeID  PULocationID  DOLocationID  passenger_count  trip_distance  \\\n",
       "0           1            92           192                1           1.29   \n",
       "1           1            92           171                1           0.64   \n",
       "2           1            75           238                2           0.89   \n",
       "3           1           166           151                1           0.66   \n",
       "4           1           166            42                1           2.15   \n",
       "5           1            42           151                1           2.82   \n",
       "6           1           179           179                1           0.68   \n",
       "7           1           179           129                1           2.62   \n",
       "8           1            82            82                1           0.52   \n",
       "9           1            85            77                1           4.63   \n",
       "\n",
       "   fare_amount  extra  mta_tax  tip_amount  tolls_amount  ehail_fee  \\\n",
       "0          6.5    0.5      0.5        0.00           0.0        NaN   \n",
       "1          4.0    0.5      0.5        1.06           0.0        NaN   \n",
       "2          5.5    0.5      0.5        1.70           0.0        NaN   \n",
       "3          4.5    0.5      0.5        1.74           0.0        NaN   \n",
       "4          9.5    0.5      0.5        2.16           0.0        NaN   \n",
       "5         11.0    0.5      0.5        0.00           0.0        NaN   \n",
       "6          5.0    0.5      0.5        0.00           0.0        NaN   \n",
       "7         11.5    0.5      0.5        0.00           0.0        NaN   \n",
       "8          4.0    0.5      0.5        0.00           0.0        NaN   \n",
       "9         17.0    0.5      0.5        0.00           0.0        NaN   \n",
       "\n",
       "   improvement_surcharge  total_amount  payment_type  trip_type  trip_duration  \n",
       "0                    0.3          7.80             2          1          360.0  \n",
       "1                    0.3          6.36             1          1          130.0  \n",
       "2                    0.3          8.50             1          1          248.0  \n",
       "3                    0.3          7.54             1          1          195.0  \n",
       "4                    0.3         12.96             1          1          629.0  \n",
       "5                    0.3         12.30             1          1          617.0  \n",
       "6                    0.3          6.30             2          1          244.0  \n",
       "7                    0.3         12.80             2          1          696.0  \n",
       "8                    0.3          5.30             2          1          140.0  \n",
       "9                    0.3         18.30             2          1         1166.0  "
      ]
     },
     "execution_count": 327,
     "metadata": {},
     "output_type": "execute_result"
    }
   ],
   "source": [
    "green_tx.head(10)"
   ]
  },
  {
   "cell_type": "markdown",
   "metadata": {},
   "source": [
    "# Explore and visualize the data"
   ]
  },
  {
   "cell_type": "code",
   "execution_count": 328,
   "metadata": {},
   "outputs": [
    {
     "data": {
      "text/plain": [
       "<matplotlib.axes._subplots.AxesSubplot at 0x19f1d74c550>"
      ]
     },
     "execution_count": 328,
     "metadata": {},
     "output_type": "execute_result"
    },
    {
     "data": {
      "image/png": "[encoded data removed]",
      "text/plain": [
       "<Figure size 720x288 with 1 Axes>"
      ]
     },
     "metadata": {
      "needs_background": "light"
     },
     "output_type": "display_data"
    }
   ],
   "source": [
    "# Passenger count distribution\n",
    "green_tx['passenger_count'].plot(kind='hist', figsize = (10,4), bins =50, title='Distribution of passenger count')"
   ]
  },
  {
   "cell_type": "markdown",
   "metadata": {},
   "source": [
    "The vizualization shows average 1-2 persons are mostly passenger counts.Large group of people traveling is not very often."
   ]
  },
  {
   "cell_type": "code",
   "execution_count": 329,
   "metadata": {},
   "outputs": [
    {
     "data": {
      "text/plain": [
       "<matplotlib.axes._subplots.AxesSubplot at 0x19f58745ac0>"
      ]
     },
     "execution_count": 329,
     "metadata": {},
     "output_type": "execute_result"
    },
    {
     "data": {
      "image/png": "[encoded data removed]",
      "text/plain": [
       "<Figure size 720x288 with 1 Axes>"
      ]
     },
     "metadata": {
      "needs_background": "light"
     },
     "output_type": "display_data"
    }
   ],
   "source": [
    "#Distribution of vendor id\n",
    "green_tx['VendorID'].plot(kind='hist', figsize = (10,4), bins =2)"
   ]
  },
  {
   "cell_type": "markdown",
   "metadata": {},
   "source": [
    "The vizualization shows count of Vendor 2 trip is much higher than Vendor 1"
   ]
  },
  {
   "cell_type": "code",
   "execution_count": 330,
   "metadata": {},
   "outputs": [
    {
     "data": {
      "text/plain": [
       "<matplotlib.axes._subplots.AxesSubplot at 0x19f587657f0>"
      ]
     },
     "execution_count": 330,
     "metadata": {},
     "output_type": "execute_result"
    },
    {
     "data": {
      "image/png": "[encoded data removed]",
      "text/plain": [
       "<Figure size 720x288 with 1 Axes>"
      ]
     },
     "metadata": {
      "needs_background": "light"
     },
     "output_type": "display_data"
    }
   ],
   "source": [
    "# trip distance distribution\n",
    "green_tx['trip_distance'].plot(kind='hist', figsize = (10,4), bins =50)"
   ]
  },
  {
   "cell_type": "markdown",
   "metadata": {},
   "source": [
    "The trip distance mainly varies from 0 - 20 miles whereas mostly traveled distance is 2 - 3 miles."
   ]
  },
  {
   "cell_type": "code",
   "execution_count": 331,
   "metadata": {},
   "outputs": [
    {
     "data": {
      "text/plain": [
       "<matplotlib.axes._subplots.AxesSubplot at 0x19f587c70a0>"
      ]
     },
     "execution_count": 331,
     "metadata": {},
     "output_type": "execute_result"
    },
    {
     "data": {
      "image/png": "[encoded data removed]",
      "text/plain": [
       "<Figure size 720x288 with 1 Axes>"
      ]
     },
     "metadata": {
      "needs_background": "light"
     },
     "output_type": "display_data"
    }
   ],
   "source": [
    "# trip distance vs RatecodeID distribution\n",
    "plt.figure(figsize = ((10, 4)))\n",
    "sns.boxplot(x='RatecodeID', y='trip_distance', data=green_tx)"
   ]
  },
  {
   "cell_type": "markdown",
   "metadata": {},
   "source": [
    "Interestingly there are many outliers in standard fair and negotiated fair category"
   ]
  },
  {
   "cell_type": "code",
   "execution_count": 332,
   "metadata": {},
   "outputs": [
    {
     "data": {
      "text/plain": [
       "<matplotlib.axes._subplots.AxesSubplot at 0x19f58821430>"
      ]
     },
     "execution_count": 332,
     "metadata": {},
     "output_type": "execute_result"
    },
    {
     "data": {
      "image/png": "[encoded data removed]",
      "text/plain": [
       "<Figure size 720x288 with 1 Axes>"
      ]
     },
     "metadata": {
      "needs_background": "light"
     },
     "output_type": "display_data"
    }
   ],
   "source": [
    "# trip distance vs RatecodeID distribution\n",
    "plt.figure(figsize = ((10, 4)))\n",
    "sns.boxplot(x='VendorID', y='total_amount', data=green_tx)"
   ]
  },
  {
   "cell_type": "markdown",
   "metadata": {},
   "source": [
    "Comparing Vendor 1 and 2, it's observed that total amount is fair for Vendor 1 whereas there are several negative amounts exist for vendor 2 which are not realistic."
   ]
  },
  {
   "cell_type": "code",
   "execution_count": 333,
   "metadata": {},
   "outputs": [
    {
     "data": {
      "text/plain": [
       "<matplotlib.axes._subplots.AxesSubplot at 0x19f58880790>"
      ]
     },
     "execution_count": 333,
     "metadata": {},
     "output_type": "execute_result"
    },
    {
     "data": {
      "image/png": "[encoded data removed]",
      "text/plain": [
       "<Figure size 720x288 with 1 Axes>"
      ]
     },
     "metadata": {
      "needs_background": "light"
     },
     "output_type": "display_data"
    }
   ],
   "source": [
    "# payment_type vs tip_amount distribution\n",
    "plt.figure(figsize = ((10, 4)))\n",
    "sns.barplot(x='payment_type', y='tip_amount', data=green_tx)\n"
   ]
  },
  {
   "cell_type": "markdown",
   "metadata": {},
   "source": [
    "As expected, in this dataset mainly the credit card tip amounts are availble as cash tip_amounts are not captured."
   ]
  },
  {
   "cell_type": "code",
   "execution_count": 334,
   "metadata": {},
   "outputs": [
    {
     "data": {
      "text/plain": [
       "Text(0.5, 1.0, 'The distribution of Pick up Location ID')"
      ]
     },
     "execution_count": 334,
     "metadata": {},
     "output_type": "execute_result"
    },
    {
     "data": {
      "image/png": "[encoded data removed]",
      "text/plain": [
       "<Figure size 432x288 with 1 Axes>"
      ]
     },
     "metadata": {
      "needs_background": "light"
     },
     "output_type": "display_data"
    }
   ],
   "source": [
    "# Distribution of pickup taxi zone\n",
    "sns.distplot(green_tx['PULocationID'])\n",
    "plt.title('The distribution of Pick up Location ID')"
   ]
  },
  {
   "cell_type": "code",
   "execution_count": 41,
   "metadata": {},
   "outputs": [
    {
     "data": {
      "text/plain": [
       "Text(0.5, 1.0, 'The distribution of drop-off  Location ID')"
      ]
     },
     "execution_count": 41,
     "metadata": {},
     "output_type": "execute_result"
    },
    {
     "data": {
      "image/png": "[encoded data removed]",
      "text/plain": [
       "<Figure size 432x288 with 1 Axes>"
      ]
     },
     "metadata": {
      "needs_background": "light"
     },
     "output_type": "display_data"
    }
   ],
   "source": [
    "# Distribution of dropoff taxi zone\n",
    "sns.distplot(green_tx['DOLocationID'])\n",
    "plt.title('The distribution of drop-off  Location ID')"
   ]
  },
  {
   "cell_type": "markdown",
   "metadata": {},
   "source": [
    "The distribution of taxi zone for pickup and dropoff looks almost similar."
   ]
  },
  {
   "cell_type": "code",
   "execution_count": 44,
   "metadata": {},
   "outputs": [
    {
     "data": {
      "text/plain": [
       "Text(0.5, 1.0, 'The distribution of tip amount')"
      ]
     },
     "execution_count": 44,
     "metadata": {},
     "output_type": "execute_result"
    },
    {
     "data": {
      "image/png": "[encoded data removed]",
      "text/plain": [
       "<Figure size 720x288 with 1 Axes>"
      ]
     },
     "metadata": {
      "needs_background": "light"
     },
     "output_type": "display_data"
    }
   ],
   "source": [
    "#Distribution of tip amount\n",
    "green_tx['tip_amount'].plot(kind='hist', figsize = (10,4), bins =30)\n",
    "plt.title('The distribution of tip amount')"
   ]
  },
  {
   "cell_type": "markdown",
   "metadata": {},
   "source": [
    "The highest distribution of tip amount is between $2-$3. However, the negative distribution of tip amount looks like a bad quality of data where data collection made wrongly. Will look in detail in time of modeling as this may cause performance impact on the models."
   ]
  },
  {
   "cell_type": "code",
   "execution_count": 163,
   "metadata": {},
   "outputs": [
    {
     "data": {
      "text/plain": [
       "<matplotlib.axes._subplots.AxesSubplot at 0x19f62c4abe0>"
      ]
     },
     "execution_count": 163,
     "metadata": {},
     "output_type": "execute_result"
    },
    {
     "data": {
      "image/png": "[encoded data removed]",
      "text/plain": [
       "<Figure size 720x288 with 1 Axes>"
      ]
     },
     "metadata": {
      "needs_background": "light"
     },
     "output_type": "display_data"
    }
   ],
   "source": [
    "# Distribution of trip duration\n",
    "green_tx['trip_duration'].plot(kind='hist', figsize = (10,4), bins =20)"
   ]
  },
  {
   "cell_type": "markdown",
   "metadata": {},
   "source": [
    "# Day and Hourly Analysis"
   ]
  },
  {
   "cell_type": "code",
   "execution_count": 382,
   "metadata": {},
   "outputs": [],
   "source": [
    "# Converting the dates into days of week to check the pattern\n",
    "green_tx['pickup_day']=green_tx['lpep_pickup_datetime'].dt.day_name()\n",
    "green_tx['dropoff_day']=green_tx['lpep_dropoff_datetime'].dt.day_name()"
   ]
  },
  {
   "cell_type": "code",
   "execution_count": 80,
   "metadata": {},
   "outputs": [
    {
     "data": {
      "text/html": [
       "<div>\n",
       "<style scoped>\n",
       "    .dataframe tbody tr th:only-of-type {\n",
       "        vertical-align: middle;\n",
       "    }\n",
       "\n",
       "    .dataframe tbody tr th {\n",
       "        vertical-align: top;\n",
       "    }\n",
       "\n",
       "    .dataframe thead th {\n",
       "        text-align: right;\n",
       "    }\n",
       "</style>\n",
       "<table border=\"1\" class=\"dataframe\">\n",
       "  <thead>\n",
       "    <tr style=\"text-align: right;\">\n",
       "      <th></th>\n",
       "      <th>VendorID</th>\n",
       "      <th>lpep_pickup_datetime</th>\n",
       "      <th>lpep_dropoff_datetime</th>\n",
       "      <th>store_and_fwd_flag</th>\n",
       "      <th>RatecodeID</th>\n",
       "      <th>PULocationID</th>\n",
       "      <th>DOLocationID</th>\n",
       "      <th>passenger_count</th>\n",
       "      <th>trip_distance</th>\n",
       "      <th>fare_amount</th>\n",
       "      <th>...</th>\n",
       "      <th>ehail_fee</th>\n",
       "      <th>improvement_surcharge</th>\n",
       "      <th>total_amount</th>\n",
       "      <th>payment_type</th>\n",
       "      <th>trip_type</th>\n",
       "      <th>trip_duration</th>\n",
       "      <th>pickup_day</th>\n",
       "      <th>dropoff_day</th>\n",
       "      <th>pickup_hour</th>\n",
       "      <th>dropoff_hour</th>\n",
       "    </tr>\n",
       "  </thead>\n",
       "  <tbody>\n",
       "    <tr>\n",
       "      <th>49075</th>\n",
       "      <td>2</td>\n",
       "      <td>2016-12-02 09:58:10</td>\n",
       "      <td>2016-12-02 10:09:18</td>\n",
       "      <td>N</td>\n",
       "      <td>1</td>\n",
       "      <td>134</td>\n",
       "      <td>121</td>\n",
       "      <td>1</td>\n",
       "      <td>2.24</td>\n",
       "      <td>10.0</td>\n",
       "      <td>...</td>\n",
       "      <td>NaN</td>\n",
       "      <td>0.3</td>\n",
       "      <td>10.8</td>\n",
       "      <td>2</td>\n",
       "      <td>1</td>\n",
       "      <td>668.00</td>\n",
       "      <td>Friday</td>\n",
       "      <td>Friday</td>\n",
       "      <td>9</td>\n",
       "      <td>10</td>\n",
       "    </tr>\n",
       "    <tr>\n",
       "      <th>347623</th>\n",
       "      <td>2</td>\n",
       "      <td>2016-12-09 16:12:34</td>\n",
       "      <td>2016-12-09 16:23:03</td>\n",
       "      <td>N</td>\n",
       "      <td>1</td>\n",
       "      <td>95</td>\n",
       "      <td>135</td>\n",
       "      <td>5</td>\n",
       "      <td>2.06</td>\n",
       "      <td>9.5</td>\n",
       "      <td>...</td>\n",
       "      <td>NaN</td>\n",
       "      <td>0.3</td>\n",
       "      <td>11.3</td>\n",
       "      <td>2</td>\n",
       "      <td>1</td>\n",
       "      <td>629.00</td>\n",
       "      <td>Friday</td>\n",
       "      <td>Friday</td>\n",
       "      <td>16</td>\n",
       "      <td>16</td>\n",
       "    </tr>\n",
       "    <tr>\n",
       "      <th>865838</th>\n",
       "      <td>2</td>\n",
       "      <td>2016-12-21 19:20:11</td>\n",
       "      <td>2016-12-21 19:29:05</td>\n",
       "      <td>N</td>\n",
       "      <td>1</td>\n",
       "      <td>7</td>\n",
       "      <td>193</td>\n",
       "      <td>5</td>\n",
       "      <td>1.56</td>\n",
       "      <td>8.0</td>\n",
       "      <td>...</td>\n",
       "      <td>NaN</td>\n",
       "      <td>0.3</td>\n",
       "      <td>9.8</td>\n",
       "      <td>2</td>\n",
       "      <td>1</td>\n",
       "      <td>534.00</td>\n",
       "      <td>Wednesday</td>\n",
       "      <td>Wednesday</td>\n",
       "      <td>19</td>\n",
       "      <td>19</td>\n",
       "    </tr>\n",
       "    <tr>\n",
       "      <th>568570</th>\n",
       "      <td>1</td>\n",
       "      <td>2016-12-14 21:34:48</td>\n",
       "      <td>2016-12-14 21:42:31</td>\n",
       "      <td>N</td>\n",
       "      <td>1</td>\n",
       "      <td>255</td>\n",
       "      <td>34</td>\n",
       "      <td>1</td>\n",
       "      <td>2.00</td>\n",
       "      <td>8.0</td>\n",
       "      <td>...</td>\n",
       "      <td>NaN</td>\n",
       "      <td>0.3</td>\n",
       "      <td>9.8</td>\n",
       "      <td>2</td>\n",
       "      <td>1</td>\n",
       "      <td>463.00</td>\n",
       "      <td>Wednesday</td>\n",
       "      <td>Wednesday</td>\n",
       "      <td>21</td>\n",
       "      <td>21</td>\n",
       "    </tr>\n",
       "    <tr>\n",
       "      <th>616637</th>\n",
       "      <td>1</td>\n",
       "      <td>2016-12-15 22:01:43</td>\n",
       "      <td>2016-12-15 22:11:41</td>\n",
       "      <td>N</td>\n",
       "      <td>1</td>\n",
       "      <td>74</td>\n",
       "      <td>42</td>\n",
       "      <td>3</td>\n",
       "      <td>2.00</td>\n",
       "      <td>9.0</td>\n",
       "      <td>...</td>\n",
       "      <td>NaN</td>\n",
       "      <td>0.3</td>\n",
       "      <td>10.3</td>\n",
       "      <td>2</td>\n",
       "      <td>1</td>\n",
       "      <td>598.00</td>\n",
       "      <td>Thursday</td>\n",
       "      <td>Thursday</td>\n",
       "      <td>22</td>\n",
       "      <td>22</td>\n",
       "    </tr>\n",
       "  </tbody>\n",
       "</table>\n",
       "<p>5 rows × 24 columns</p>\n",
       "</div>"
      ],
      "text/plain": [
       "        VendorID lpep_pickup_datetime lpep_dropoff_datetime  \\\n",
       "49075          2  2016-12-02 09:58:10   2016-12-02 10:09:18   \n",
       "347623         2  2016-12-09 16:12:34   2016-12-09 16:23:03   \n",
       "865838         2  2016-12-21 19:20:11   2016-12-21 19:29:05   \n",
       "568570         1  2016-12-14 21:34:48   2016-12-14 21:42:31   \n",
       "616637         1  2016-12-15 22:01:43   2016-12-15 22:11:41   \n",
       "\n",
       "       store_and_fwd_flag  RatecodeID  PULocationID  DOLocationID  \\\n",
       "49075                   N           1           134           121   \n",
       "347623                  N           1            95           135   \n",
       "865838                  N           1             7           193   \n",
       "568570                  N           1           255            34   \n",
       "616637                  N           1            74            42   \n",
       "\n",
       "        passenger_count  trip_distance  fare_amount  ...  ehail_fee  \\\n",
       "49075                 1           2.24         10.0  ...        NaN   \n",
       "347623                5           2.06          9.5  ...        NaN   \n",
       "865838                5           1.56          8.0  ...        NaN   \n",
       "568570                1           2.00          8.0  ...        NaN   \n",
       "616637                3           2.00          9.0  ...        NaN   \n",
       "\n",
       "        improvement_surcharge  total_amount  payment_type  trip_type  \\\n",
       "49075                     0.3          10.8             2          1   \n",
       "347623                    0.3          11.3             2          1   \n",
       "865838                    0.3           9.8             2          1   \n",
       "568570                    0.3           9.8             2          1   \n",
       "616637                    0.3          10.3             2          1   \n",
       "\n",
       "        trip_duration  pickup_day  dropoff_day  pickup_hour dropoff_hour  \n",
       "49075          668.00      Friday       Friday            9           10  \n",
       "347623         629.00      Friday       Friday           16           16  \n",
       "865838         534.00   Wednesday    Wednesday           19           19  \n",
       "568570         463.00   Wednesday    Wednesday           21           21  \n",
       "616637         598.00    Thursday     Thursday           22           22  \n",
       "\n",
       "[5 rows x 24 columns]"
      ]
     },
     "execution_count": 80,
     "metadata": {},
     "output_type": "execute_result"
    }
   ],
   "source": [
    "green_tx.sample(5)"
   ]
  },
  {
   "cell_type": "code",
   "execution_count": 383,
   "metadata": {},
   "outputs": [
    {
     "data": {
      "text/plain": [
       "Saturday     238159\n",
       "Friday       227620\n",
       "Thursday     197583\n",
       "Sunday       149206\n",
       "Wednesday    144582\n",
       "Tuesday      138579\n",
       "Monday       128429\n",
       "Name: pickup_day, dtype: int64"
      ]
     },
     "execution_count": 383,
     "metadata": {},
     "output_type": "execute_result"
    }
   ],
   "source": [
    "# Checking the distribution on wk days on pick_up\n",
    "green_tx['pickup_day'].value_counts()"
   ]
  },
  {
   "cell_type": "code",
   "execution_count": 73,
   "metadata": {},
   "outputs": [
    {
     "data": {
      "text/plain": [
       "<matplotlib.axes._subplots.AxesSubplot at 0x19ecf0124f0>"
      ]
     },
     "execution_count": 73,
     "metadata": {},
     "output_type": "execute_result"
    },
    {
     "data": {
      "image/png": "[encoded data removed]",
      "text/plain": [
       "<Figure size 720x288 with 1 Axes>"
      ]
     },
     "metadata": {
      "needs_background": "light"
     },
     "output_type": "display_data"
    }
   ],
   "source": [
    "# Vizualization of pickup day distribution\n",
    "plt.figure(figsize = ((10, 4)))\n",
    "sns.countplot(x='pickup_day', data=green_tx)"
   ]
  },
  {
   "cell_type": "code",
   "execution_count": 384,
   "metadata": {},
   "outputs": [
    {
     "data": {
      "text/plain": [
       "Saturday     237749\n",
       "Friday       226322\n",
       "Thursday     196608\n",
       "Sunday       151827\n",
       "Wednesday    144378\n",
       "Tuesday      138364\n",
       "Monday       128910\n",
       "Name: dropoff_day, dtype: int64"
      ]
     },
     "execution_count": 384,
     "metadata": {},
     "output_type": "execute_result"
    }
   ],
   "source": [
    "# Checking the distribution on wk days on drop-off\n",
    "green_tx['dropoff_day'].value_counts()"
   ]
  },
  {
   "cell_type": "code",
   "execution_count": 75,
   "metadata": {},
   "outputs": [
    {
     "data": {
      "text/plain": [
       "<matplotlib.axes._subplots.AxesSubplot at 0x19eb30a99a0>"
      ]
     },
     "execution_count": 75,
     "metadata": {},
     "output_type": "execute_result"
    },
    {
     "data": {
      "image/png": "[encoded data removed]",
      "text/plain": [
       "<Figure size 720x288 with 1 Axes>"
      ]
     },
     "metadata": {
      "needs_background": "light"
     },
     "output_type": "display_data"
    }
   ],
   "source": [
    "# Vizualization of pickup day distribution\n",
    "plt.figure(figsize = ((10, 4)))\n",
    "sns.countplot(x='dropoff_day', data=green_tx)"
   ]
  },
  {
   "cell_type": "markdown",
   "metadata": {},
   "source": [
    "The analysis reveals that the most trips happened on Saturday and Friday, whereas least trips happened on Monday."
   ]
  },
  {
   "cell_type": "code",
   "execution_count": 385,
   "metadata": {},
   "outputs": [],
   "source": [
    "# # Converting the days into hours to check the pattern\n",
    "green_tx['pickup_hour']=green_tx['lpep_pickup_datetime'].dt.hour\n",
    "green_tx['dropoff_hour']=green_tx['lpep_dropoff_datetime'].dt.hour"
   ]
  },
  {
   "cell_type": "code",
   "execution_count": 77,
   "metadata": {},
   "outputs": [
    {
     "data": {
      "text/plain": [
       "Text(0.5, 1.0, 'Distribution of dropoff hours')"
      ]
     },
     "execution_count": 77,
     "metadata": {},
     "output_type": "execute_result"
    },
    {
     "data": {
      "image/png": "[encoded data removed]",
      "text/plain": [
       "<Figure size 720x360 with 2 Axes>"
      ]
     },
     "metadata": {
      "needs_background": "light"
     },
     "output_type": "display_data"
    }
   ],
   "source": [
    "# Vizualization of hourly distribution of pickup and drop-off\n",
    "figure,ax=plt.subplots(nrows=1,ncols=2,figsize=(10,5))\n",
    "green_tx.pickup_hour.hist(bins=48,ax=ax[0])\n",
    "ax[0].set_title('Distribution of pickup hours')\n",
    "green_tx.dropoff_hour.hist(bins=48,ax=ax[1])\n",
    "ax[1].set_title('Distribution of dropoff hours')"
   ]
  },
  {
   "cell_type": "markdown",
   "metadata": {},
   "source": [
    "Both the distributions are almost similar and it's observed that most pickup and dropoff ocuur in the evening. Least pickup and drop-off occur in the morning."
   ]
  },
  {
   "cell_type": "code",
   "execution_count": 103,
   "metadata": {},
   "outputs": [
    {
     "data": {
      "text/plain": [
       "Text(0.5, 1.0, 'The Average Trip Distance per Dropoff Day of the week')"
      ]
     },
     "execution_count": 103,
     "metadata": {},
     "output_type": "execute_result"
    },
    {
     "data": {
      "image/png": "[encoded data removed]",
      "text/plain": [
       "<Figure size 576x288 with 1 Axes>"
      ]
     },
     "metadata": {
      "needs_background": "light"
     },
     "output_type": "display_data"
    },
    {
     "data": {
      "image/png": "[encoded data removed]",
      "text/plain": [
       "<Figure size 576x288 with 1 Axes>"
      ]
     },
     "metadata": {
      "needs_background": "light"
     },
     "output_type": "display_data"
    }
   ],
   "source": [
    "sns.catplot(x=\"pickup_day\",y=\"trip_distance\",kind=\"bar\",data=green_tx,height=4,aspect=2)\n",
    "plt.title('The Average Trip Distance per PickUp Day of the week')\n",
    "sns.catplot(x=\"dropoff_day\",y=\"trip_distance\",kind=\"bar\",data=green_tx,height=4,aspect=2)\n",
    "plt.title('The Average Trip Distance per Dropoff Day of the week')"
   ]
  },
  {
   "cell_type": "markdown",
   "metadata": {},
   "source": [
    "The barcharts describes the average trip distance for each day of week. Sunday is the largest as per visualization"
   ]
  },
  {
   "cell_type": "code",
   "execution_count": 166,
   "metadata": {},
   "outputs": [
    {
     "data": {
      "text/plain": [
       "<Figure size 1440x360 with 0 Axes>"
      ]
     },
     "metadata": {},
     "output_type": "display_data"
    },
    {
     "data": {
      "image/png": "[encoded data removed]",
      "text/plain": [
       "<Figure size 360x360 with 1 Axes>"
      ]
     },
     "metadata": {
      "needs_background": "light"
     },
     "output_type": "display_data"
    },
    {
     "data": {
      "image/png": "[encoded data removed]",
      "text/plain": [
       "<Figure size 360x360 with 1 Axes>"
      ]
     },
     "metadata": {
      "needs_background": "light"
     },
     "output_type": "display_data"
    }
   ],
   "source": [
    "plt.figure(figsize = ((20, 5)))\n",
    "\n",
    "ax1.set_title('Distribution of pickup hours')\n",
    "ax=sns.catplot(x=\"pickup_hour\", y=\"trip_duration\",kind=\"bar\",data=green_tx,ax=ax1)\n",
    "\n",
    "ax2.set_title('Distribution of dropoff hours')\n",
    "ax=sns.catplot(x=\"dropoff_hour\", y=\"trip_duration\",kind=\"bar\",data=green_tx,ax=ax2)\n",
    "plt.show()"
   ]
  },
  {
   "cell_type": "markdown",
   "metadata": {},
   "source": [
    "The highest average trip duration are the trips started in midday whereas least trip duration are for trips which ended in very early morning."
   ]
  },
  {
   "cell_type": "code",
   "execution_count": 168,
   "metadata": {},
   "outputs": [
    {
     "data": {
      "text/plain": [
       "Text(0.5, 1.0, 'The Average Trip Duration per Dropoff Day of the week')"
      ]
     },
     "execution_count": 168,
     "metadata": {},
     "output_type": "execute_result"
    },
    {
     "data": {
      "image/png": "[encoded data removed]",
      "text/plain": [
       "<Figure size 576x288 with 1 Axes>"
      ]
     },
     "metadata": {
      "needs_background": "light"
     },
     "output_type": "display_data"
    },
    {
     "data": {
      "image/png": "[encoded data removed]",
      "text/plain": [
       "<Figure size 576x288 with 1 Axes>"
      ]
     },
     "metadata": {
      "needs_background": "light"
     },
     "output_type": "display_data"
    }
   ],
   "source": [
    "sns.catplot(x=\"pickup_day\",y=\"trip_duration\",kind=\"bar\",data=green_tx,height=4,aspect=2)\n",
    "plt.title('The Average Trip Duration per PickUp Day of the week')\n",
    "sns.catplot(x=\"dropoff_day\",y=\"trip_duration\",kind=\"bar\",data=green_tx,height=4,aspect=2)\n",
    "plt.title('The Average Trip Duration per Dropoff Day of the week')"
   ]
  },
  {
   "cell_type": "code",
   "execution_count": 169,
   "metadata": {},
   "outputs": [
    {
     "data": {
      "text/plain": [
       "<matplotlib.axes._subplots.AxesSubplot at 0x19f5390ad00>"
      ]
     },
     "execution_count": 169,
     "metadata": {},
     "output_type": "execute_result"
    },
    {
     "data": {
      "image/png": "[encoded data removed]",
      "text/plain": [
       "<Figure size 432x288 with 1 Axes>"
      ]
     },
     "metadata": {
      "needs_background": "light"
     },
     "output_type": "display_data"
    }
   ],
   "source": [
    "# Trip distance vs trip duration scatter plot\n",
    "sns.scatterplot(x='trip_distance',y='trip_duration',data=green_tx)"
   ]
  },
  {
   "cell_type": "markdown",
   "metadata": {},
   "source": [
    "The visualization reveals the range of trip distance mostly from 0 to 60 miles, where the mostly occur trip distance are 2 -15 miles. The trip duration also comes in the range of 0 - 90000 sec. Some outliers needs to be removed as those seems to be irrelevant and wrongly collected. Interesting fact is that for some distances like 10 miles, data is showing it took 80000 sec which seems not to be realistic. This type of bad data quality can impact the model performance."
   ]
  },
  {
   "cell_type": "markdown",
   "metadata": {},
   "source": [
    "# Machine Learning Model"
   ]
  },
  {
   "cell_type": "markdown",
   "metadata": {},
   "source": [
    "The taxi drivers want to know what kind of trips yield better tips. If we need to build a model on this context, tip amount will be the target. the predictors need to be analyzed based on different ML algorithm performances."
   ]
  },
  {
   "cell_type": "markdown",
   "metadata": {},
   "source": [
    "### Data Pre-Processing"
   ]
  },
  {
   "cell_type": "markdown",
   "metadata": {},
   "source": [
    "One point to be highlighted is that the tip amount availble in this data set are only the Credit card tips. As mentioned in data dictionary, cash tip amounts are not included. So our model data needs to be filtered only for the trips where credit cards used, otherwise there will be chance for data leakage.Payment type feature can be used to identify those records."
   ]
  },
  {
   "cell_type": "code",
   "execution_count": 386,
   "metadata": {},
   "outputs": [],
   "source": [
    "# Filtering to get the credit-card trips only\n",
    "green_tx = green_tx[green_tx.payment_type == 1]"
   ]
  },
  {
   "cell_type": "code",
   "execution_count": 387,
   "metadata": {},
   "outputs": [
    {
     "data": {
      "text/plain": [
       "(581835, 24)"
      ]
     },
     "execution_count": 387,
     "metadata": {},
     "output_type": "execute_result"
    }
   ],
   "source": [
    "# Check the size of the current data\n",
    "green_tx.shape"
   ]
  },
  {
   "cell_type": "code",
   "execution_count": 388,
   "metadata": {},
   "outputs": [
    {
     "data": {
      "text/plain": [
       "<matplotlib.axes._subplots.AxesSubplot at 0x19f5ec99d60>"
      ]
     },
     "execution_count": 388,
     "metadata": {},
     "output_type": "execute_result"
    },
    {
     "data": {
      "image/png": "[encoded data removed]",
      "text/plain": [
       "<Figure size 720x288 with 1 Axes>"
      ]
     },
     "metadata": {
      "needs_background": "light"
     },
     "output_type": "display_data"
    }
   ],
   "source": [
    "# Check the frequency distribution of tip amount\n",
    "green_tx['tip_amount'].plot(kind='hist', figsize = (10,4), bins =300)"
   ]
  },
  {
   "cell_type": "code",
   "execution_count": 207,
   "metadata": {},
   "outputs": [
    {
     "name": "stdout",
     "output_type": "stream",
     "text": [
      "Skewness: 14.465852\n",
      "Kurtosis: 692.855447\n"
     ]
    }
   ],
   "source": [
    "#Checking skewness and kurtosis of target\n",
    "print(\"Skewness: %f\" % green_tx['tip_amount'].skew())\n",
    "print(\"Kurtosis: %f\" % green_tx['tip_amount'].kurt())"
   ]
  },
  {
   "cell_type": "markdown",
   "metadata": {},
   "source": [
    "The target is highly right skewed and we may need to apply log transformation on target value"
   ]
  },
  {
   "cell_type": "code",
   "execution_count": 405,
   "metadata": {},
   "outputs": [],
   "source": [
    "# As right skewness observed, applying log transformation on target value\n",
    "Y_tip = np.log1p(green_tx['tip_amount'])"
   ]
  },
  {
   "cell_type": "code",
   "execution_count": 406,
   "metadata": {},
   "outputs": [],
   "source": [
    "# Storing original tip amount value as well\n",
    "Y_tip_orig=green_tx['tip_amount']"
   ]
  },
  {
   "cell_type": "code",
   "execution_count": 407,
   "metadata": {},
   "outputs": [
    {
     "data": {
      "text/plain": [
       "<matplotlib.axes._subplots.AxesSubplot at 0x19f529fa160>"
      ]
     },
     "execution_count": 407,
     "metadata": {},
     "output_type": "execute_result"
    },
    {
     "data": {
      "image/png": "[encoded data removed]",
      "text/plain": [
       "<Figure size 720x288 with 1 Axes>"
      ]
     },
     "metadata": {
      "needs_background": "light"
     },
     "output_type": "display_data"
    }
   ],
   "source": [
    "# Check the frequency distribution of tip amount\n",
    "Y_tip.plot(kind='hist', figsize = (10,4), bins =50)"
   ]
  },
  {
   "cell_type": "code",
   "execution_count": 393,
   "metadata": {},
   "outputs": [
    {
     "name": "stdout",
     "output_type": "stream",
     "text": [
      "Skewness: -0.000549\n",
      "Kurtosis: 0.354319\n"
     ]
    }
   ],
   "source": [
    "#Checking skewness and kurtosis of target\n",
    "print(\"Skewness: %f\" % Y_tip.skew())\n",
    "print(\"Kurtosis: %f\" % Y_tip.kurt())"
   ]
  },
  {
   "cell_type": "markdown",
   "metadata": {},
   "source": [
    "The log transformation of the target value will not really help as it's not a nirmal distribution due to left side sharp hight."
   ]
  },
  {
   "cell_type": "code",
   "execution_count": 412,
   "metadata": {},
   "outputs": [],
   "source": [
    "#Y_tip = Y_tip.map('{:,.2f}'.format)"
   ]
  },
  {
   "cell_type": "code",
   "execution_count": 347,
   "metadata": {},
   "outputs": [
    {
     "data": {
      "text/html": [
       "<div>\n",
       "<style scoped>\n",
       "    .dataframe tbody tr th:only-of-type {\n",
       "        vertical-align: middle;\n",
       "    }\n",
       "\n",
       "    .dataframe tbody tr th {\n",
       "        vertical-align: top;\n",
       "    }\n",
       "\n",
       "    .dataframe thead th {\n",
       "        text-align: right;\n",
       "    }\n",
       "</style>\n",
       "<table border=\"1\" class=\"dataframe\">\n",
       "  <thead>\n",
       "    <tr style=\"text-align: right;\">\n",
       "      <th></th>\n",
       "      <th>Total</th>\n",
       "      <th>Percent</th>\n",
       "    </tr>\n",
       "  </thead>\n",
       "  <tbody>\n",
       "    <tr>\n",
       "      <th>ehail_fee</th>\n",
       "      <td>581835</td>\n",
       "      <td>1.0</td>\n",
       "    </tr>\n",
       "    <tr>\n",
       "      <th>dropoff_hour</th>\n",
       "      <td>0</td>\n",
       "      <td>0.0</td>\n",
       "    </tr>\n",
       "    <tr>\n",
       "      <th>extra</th>\n",
       "      <td>0</td>\n",
       "      <td>0.0</td>\n",
       "    </tr>\n",
       "    <tr>\n",
       "      <th>lpep_pickup_datetime</th>\n",
       "      <td>0</td>\n",
       "      <td>0.0</td>\n",
       "    </tr>\n",
       "    <tr>\n",
       "      <th>lpep_dropoff_datetime</th>\n",
       "      <td>0</td>\n",
       "      <td>0.0</td>\n",
       "    </tr>\n",
       "    <tr>\n",
       "      <th>store_and_fwd_flag</th>\n",
       "      <td>0</td>\n",
       "      <td>0.0</td>\n",
       "    </tr>\n",
       "    <tr>\n",
       "      <th>RatecodeID</th>\n",
       "      <td>0</td>\n",
       "      <td>0.0</td>\n",
       "    </tr>\n",
       "    <tr>\n",
       "      <th>PULocationID</th>\n",
       "      <td>0</td>\n",
       "      <td>0.0</td>\n",
       "    </tr>\n",
       "    <tr>\n",
       "      <th>DOLocationID</th>\n",
       "      <td>0</td>\n",
       "      <td>0.0</td>\n",
       "    </tr>\n",
       "    <tr>\n",
       "      <th>passenger_count</th>\n",
       "      <td>0</td>\n",
       "      <td>0.0</td>\n",
       "    </tr>\n",
       "    <tr>\n",
       "      <th>trip_distance</th>\n",
       "      <td>0</td>\n",
       "      <td>0.0</td>\n",
       "    </tr>\n",
       "    <tr>\n",
       "      <th>fare_amount</th>\n",
       "      <td>0</td>\n",
       "      <td>0.0</td>\n",
       "    </tr>\n",
       "    <tr>\n",
       "      <th>mta_tax</th>\n",
       "      <td>0</td>\n",
       "      <td>0.0</td>\n",
       "    </tr>\n",
       "    <tr>\n",
       "      <th>pickup_hour</th>\n",
       "      <td>0</td>\n",
       "      <td>0.0</td>\n",
       "    </tr>\n",
       "    <tr>\n",
       "      <th>tip_amount</th>\n",
       "      <td>0</td>\n",
       "      <td>0.0</td>\n",
       "    </tr>\n",
       "    <tr>\n",
       "      <th>tolls_amount</th>\n",
       "      <td>0</td>\n",
       "      <td>0.0</td>\n",
       "    </tr>\n",
       "    <tr>\n",
       "      <th>improvement_surcharge</th>\n",
       "      <td>0</td>\n",
       "      <td>0.0</td>\n",
       "    </tr>\n",
       "    <tr>\n",
       "      <th>total_amount</th>\n",
       "      <td>0</td>\n",
       "      <td>0.0</td>\n",
       "    </tr>\n",
       "    <tr>\n",
       "      <th>payment_type</th>\n",
       "      <td>0</td>\n",
       "      <td>0.0</td>\n",
       "    </tr>\n",
       "    <tr>\n",
       "      <th>trip_type</th>\n",
       "      <td>0</td>\n",
       "      <td>0.0</td>\n",
       "    </tr>\n",
       "    <tr>\n",
       "      <th>trip_duration</th>\n",
       "      <td>0</td>\n",
       "      <td>0.0</td>\n",
       "    </tr>\n",
       "    <tr>\n",
       "      <th>pickup_day</th>\n",
       "      <td>0</td>\n",
       "      <td>0.0</td>\n",
       "    </tr>\n",
       "    <tr>\n",
       "      <th>dropoff_day</th>\n",
       "      <td>0</td>\n",
       "      <td>0.0</td>\n",
       "    </tr>\n",
       "    <tr>\n",
       "      <th>VendorID</th>\n",
       "      <td>0</td>\n",
       "      <td>0.0</td>\n",
       "    </tr>\n",
       "  </tbody>\n",
       "</table>\n",
       "</div>"
      ],
      "text/plain": [
       "                        Total  Percent\n",
       "ehail_fee              581835      1.0\n",
       "dropoff_hour                0      0.0\n",
       "extra                       0      0.0\n",
       "lpep_pickup_datetime        0      0.0\n",
       "lpep_dropoff_datetime       0      0.0\n",
       "store_and_fwd_flag          0      0.0\n",
       "RatecodeID                  0      0.0\n",
       "PULocationID                0      0.0\n",
       "DOLocationID                0      0.0\n",
       "passenger_count             0      0.0\n",
       "trip_distance               0      0.0\n",
       "fare_amount                 0      0.0\n",
       "mta_tax                     0      0.0\n",
       "pickup_hour                 0      0.0\n",
       "tip_amount                  0      0.0\n",
       "tolls_amount                0      0.0\n",
       "improvement_surcharge       0      0.0\n",
       "total_amount                0      0.0\n",
       "payment_type                0      0.0\n",
       "trip_type                   0      0.0\n",
       "trip_duration               0      0.0\n",
       "pickup_day                  0      0.0\n",
       "dropoff_day                 0      0.0\n",
       "VendorID                    0      0.0"
      ]
     },
     "execution_count": 347,
     "metadata": {},
     "output_type": "execute_result"
    }
   ],
   "source": [
    "# Missing data checking\n",
    "Total = green_tx.isnull().sum().sort_values(ascending=False)\n",
    "percent = (green_tx.isnull().sum() / green_tx.isnull().count()).sort_values(ascending=False)\n",
    "missing_data = pd.concat([Total, percent], axis=1, keys=['Total', 'Percent'])\n",
    "missing_data.head(25)"
   ]
  },
  {
   "cell_type": "markdown",
   "metadata": {},
   "source": [
    "No Data is missing except ehail_fee column. As 100% data is missing here, we can drop this column"
   ]
  },
  {
   "cell_type": "code",
   "execution_count": 414,
   "metadata": {},
   "outputs": [],
   "source": [
    "#drop significantly missing values\n",
    "green_tx.drop(['ehail_fee','payment_type'], axis=1, inplace=True)"
   ]
  },
  {
   "cell_type": "code",
   "execution_count": 349,
   "metadata": {},
   "outputs": [
    {
     "data": {
      "text/html": [
       "<div>\n",
       "<style scoped>\n",
       "    .dataframe tbody tr th:only-of-type {\n",
       "        vertical-align: middle;\n",
       "    }\n",
       "\n",
       "    .dataframe tbody tr th {\n",
       "        vertical-align: top;\n",
       "    }\n",
       "\n",
       "    .dataframe thead th {\n",
       "        text-align: right;\n",
       "    }\n",
       "</style>\n",
       "<table border=\"1\" class=\"dataframe\">\n",
       "  <thead>\n",
       "    <tr style=\"text-align: right;\">\n",
       "      <th></th>\n",
       "      <th>VendorID</th>\n",
       "      <th>RatecodeID</th>\n",
       "      <th>PULocationID</th>\n",
       "      <th>DOLocationID</th>\n",
       "      <th>passenger_count</th>\n",
       "      <th>trip_distance</th>\n",
       "      <th>fare_amount</th>\n",
       "      <th>extra</th>\n",
       "      <th>mta_tax</th>\n",
       "      <th>tip_amount</th>\n",
       "      <th>tolls_amount</th>\n",
       "      <th>improvement_surcharge</th>\n",
       "      <th>total_amount</th>\n",
       "      <th>trip_type</th>\n",
       "      <th>trip_duration</th>\n",
       "      <th>pickup_hour</th>\n",
       "      <th>dropoff_hour</th>\n",
       "    </tr>\n",
       "  </thead>\n",
       "  <tbody>\n",
       "    <tr>\n",
       "      <th>VendorID</th>\n",
       "      <td>1.000000</td>\n",
       "      <td>0.021197</td>\n",
       "      <td>0.010105</td>\n",
       "      <td>0.005535</td>\n",
       "      <td>0.089941</td>\n",
       "      <td>-0.012368</td>\n",
       "      <td>-0.015170</td>\n",
       "      <td>-0.002928</td>\n",
       "      <td>-0.019976</td>\n",
       "      <td>-0.015129</td>\n",
       "      <td>-0.006434</td>\n",
       "      <td>-0.014845</td>\n",
       "      <td>-0.013795</td>\n",
       "      <td>0.021722</td>\n",
       "      <td>0.033163</td>\n",
       "      <td>0.007428</td>\n",
       "      <td>0.005458</td>\n",
       "    </tr>\n",
       "    <tr>\n",
       "      <th>RatecodeID</th>\n",
       "      <td>0.021197</td>\n",
       "      <td>1.000000</td>\n",
       "      <td>0.047384</td>\n",
       "      <td>0.007553</td>\n",
       "      <td>-0.007534</td>\n",
       "      <td>0.024008</td>\n",
       "      <td>0.240224</td>\n",
       "      <td>-0.115548</td>\n",
       "      <td>-0.948705</td>\n",
       "      <td>0.048481</td>\n",
       "      <td>0.073708</td>\n",
       "      <td>-0.918777</td>\n",
       "      <td>0.207071</td>\n",
       "      <td>0.965069</td>\n",
       "      <td>0.005422</td>\n",
       "      <td>-0.032634</td>\n",
       "      <td>-0.032237</td>\n",
       "    </tr>\n",
       "    <tr>\n",
       "      <th>PULocationID</th>\n",
       "      <td>0.010105</td>\n",
       "      <td>0.047384</td>\n",
       "      <td>1.000000</td>\n",
       "      <td>0.115796</td>\n",
       "      <td>0.017805</td>\n",
       "      <td>0.046050</td>\n",
       "      <td>0.038883</td>\n",
       "      <td>0.034891</td>\n",
       "      <td>-0.050845</td>\n",
       "      <td>0.032825</td>\n",
       "      <td>0.015614</td>\n",
       "      <td>-0.051030</td>\n",
       "      <td>0.041684</td>\n",
       "      <td>0.047078</td>\n",
       "      <td>0.004178</td>\n",
       "      <td>-0.041547</td>\n",
       "      <td>-0.048380</td>\n",
       "    </tr>\n",
       "    <tr>\n",
       "      <th>DOLocationID</th>\n",
       "      <td>0.005535</td>\n",
       "      <td>0.007553</td>\n",
       "      <td>0.115796</td>\n",
       "      <td>1.000000</td>\n",
       "      <td>0.001737</td>\n",
       "      <td>0.077875</td>\n",
       "      <td>0.068595</td>\n",
       "      <td>-0.024131</td>\n",
       "      <td>-0.004218</td>\n",
       "      <td>0.050228</td>\n",
       "      <td>0.007514</td>\n",
       "      <td>-0.011194</td>\n",
       "      <td>0.068112</td>\n",
       "      <td>0.006323</td>\n",
       "      <td>0.009875</td>\n",
       "      <td>-0.008767</td>\n",
       "      <td>-0.005199</td>\n",
       "    </tr>\n",
       "    <tr>\n",
       "      <th>passenger_count</th>\n",
       "      <td>0.089941</td>\n",
       "      <td>-0.007534</td>\n",
       "      <td>0.017805</td>\n",
       "      <td>0.001737</td>\n",
       "      <td>1.000000</td>\n",
       "      <td>0.004571</td>\n",
       "      <td>0.012379</td>\n",
       "      <td>0.013973</td>\n",
       "      <td>0.008922</td>\n",
       "      <td>0.005548</td>\n",
       "      <td>-0.002077</td>\n",
       "      <td>0.009820</td>\n",
       "      <td>0.012423</td>\n",
       "      <td>-0.006820</td>\n",
       "      <td>0.005865</td>\n",
       "      <td>0.002513</td>\n",
       "      <td>0.001064</td>\n",
       "    </tr>\n",
       "    <tr>\n",
       "      <th>trip_distance</th>\n",
       "      <td>-0.012368</td>\n",
       "      <td>0.024008</td>\n",
       "      <td>0.046050</td>\n",
       "      <td>0.077875</td>\n",
       "      <td>0.004571</td>\n",
       "      <td>1.000000</td>\n",
       "      <td>0.849055</td>\n",
       "      <td>-0.029214</td>\n",
       "      <td>0.007278</td>\n",
       "      <td>0.515898</td>\n",
       "      <td>0.344512</td>\n",
       "      <td>0.035358</td>\n",
       "      <td>0.858683</td>\n",
       "      <td>-0.034194</td>\n",
       "      <td>0.094999</td>\n",
       "      <td>-0.075144</td>\n",
       "      <td>-0.074505</td>\n",
       "    </tr>\n",
       "    <tr>\n",
       "      <th>fare_amount</th>\n",
       "      <td>-0.015170</td>\n",
       "      <td>0.240224</td>\n",
       "      <td>0.038883</td>\n",
       "      <td>0.068595</td>\n",
       "      <td>0.012379</td>\n",
       "      <td>0.849055</td>\n",
       "      <td>1.000000</td>\n",
       "      <td>-0.052323</td>\n",
       "      <td>-0.206742</td>\n",
       "      <td>0.499567</td>\n",
       "      <td>0.295874</td>\n",
       "      <td>-0.168376</td>\n",
       "      <td>0.975988</td>\n",
       "      <td>0.186669</td>\n",
       "      <td>0.097056</td>\n",
       "      <td>-0.055679</td>\n",
       "      <td>-0.050967</td>\n",
       "    </tr>\n",
       "    <tr>\n",
       "      <th>extra</th>\n",
       "      <td>-0.002928</td>\n",
       "      <td>-0.115548</td>\n",
       "      <td>0.034891</td>\n",
       "      <td>-0.024131</td>\n",
       "      <td>0.013973</td>\n",
       "      <td>-0.029214</td>\n",
       "      <td>-0.052323</td>\n",
       "      <td>1.000000</td>\n",
       "      <td>0.125411</td>\n",
       "      <td>0.003189</td>\n",
       "      <td>-0.014903</td>\n",
       "      <td>0.122609</td>\n",
       "      <td>-0.013865</td>\n",
       "      <td>-0.122974</td>\n",
       "      <td>-0.000494</td>\n",
       "      <td>0.290111</td>\n",
       "      <td>0.274971</td>\n",
       "    </tr>\n",
       "    <tr>\n",
       "      <th>mta_tax</th>\n",
       "      <td>-0.019976</td>\n",
       "      <td>-0.948705</td>\n",
       "      <td>-0.050845</td>\n",
       "      <td>-0.004218</td>\n",
       "      <td>0.008922</td>\n",
       "      <td>0.007278</td>\n",
       "      <td>-0.206742</td>\n",
       "      <td>0.125411</td>\n",
       "      <td>1.000000</td>\n",
       "      <td>-0.029901</td>\n",
       "      <td>-0.067510</td>\n",
       "      <td>0.945611</td>\n",
       "      <td>-0.173570</td>\n",
       "      <td>-0.949487</td>\n",
       "      <td>-0.003123</td>\n",
       "      <td>0.032024</td>\n",
       "      <td>0.031734</td>\n",
       "    </tr>\n",
       "    <tr>\n",
       "      <th>tip_amount</th>\n",
       "      <td>-0.015129</td>\n",
       "      <td>0.048481</td>\n",
       "      <td>0.032825</td>\n",
       "      <td>0.050228</td>\n",
       "      <td>0.005548</td>\n",
       "      <td>0.515898</td>\n",
       "      <td>0.499567</td>\n",
       "      <td>0.003189</td>\n",
       "      <td>-0.029901</td>\n",
       "      <td>1.000000</td>\n",
       "      <td>0.236958</td>\n",
       "      <td>-0.006481</td>\n",
       "      <td>0.659944</td>\n",
       "      <td>0.012444</td>\n",
       "      <td>0.041574</td>\n",
       "      <td>-0.025620</td>\n",
       "      <td>-0.022054</td>\n",
       "    </tr>\n",
       "    <tr>\n",
       "      <th>tolls_amount</th>\n",
       "      <td>-0.006434</td>\n",
       "      <td>0.073708</td>\n",
       "      <td>0.015614</td>\n",
       "      <td>0.007514</td>\n",
       "      <td>-0.002077</td>\n",
       "      <td>0.344512</td>\n",
       "      <td>0.295874</td>\n",
       "      <td>-0.014903</td>\n",
       "      <td>-0.067510</td>\n",
       "      <td>0.236958</td>\n",
       "      <td>1.000000</td>\n",
       "      <td>-0.007843</td>\n",
       "      <td>0.381810</td>\n",
       "      <td>0.008143</td>\n",
       "      <td>0.024953</td>\n",
       "      <td>-0.033833</td>\n",
       "      <td>-0.027645</td>\n",
       "    </tr>\n",
       "    <tr>\n",
       "      <th>improvement_surcharge</th>\n",
       "      <td>-0.014845</td>\n",
       "      <td>-0.918777</td>\n",
       "      <td>-0.051030</td>\n",
       "      <td>-0.011194</td>\n",
       "      <td>0.009820</td>\n",
       "      <td>0.035358</td>\n",
       "      <td>-0.168376</td>\n",
       "      <td>0.122609</td>\n",
       "      <td>0.945611</td>\n",
       "      <td>-0.006481</td>\n",
       "      <td>-0.007843</td>\n",
       "      <td>1.000000</td>\n",
       "      <td>-0.131442</td>\n",
       "      <td>-0.950442</td>\n",
       "      <td>-0.001059</td>\n",
       "      <td>0.030629</td>\n",
       "      <td>0.031011</td>\n",
       "    </tr>\n",
       "    <tr>\n",
       "      <th>total_amount</th>\n",
       "      <td>-0.013795</td>\n",
       "      <td>0.207071</td>\n",
       "      <td>0.041684</td>\n",
       "      <td>0.068112</td>\n",
       "      <td>0.012423</td>\n",
       "      <td>0.858683</td>\n",
       "      <td>0.975988</td>\n",
       "      <td>-0.013865</td>\n",
       "      <td>-0.173570</td>\n",
       "      <td>0.659944</td>\n",
       "      <td>0.381810</td>\n",
       "      <td>-0.131442</td>\n",
       "      <td>1.000000</td>\n",
       "      <td>0.148358</td>\n",
       "      <td>0.093249</td>\n",
       "      <td>-0.046709</td>\n",
       "      <td>-0.041851</td>\n",
       "    </tr>\n",
       "    <tr>\n",
       "      <th>trip_type</th>\n",
       "      <td>0.021722</td>\n",
       "      <td>0.965069</td>\n",
       "      <td>0.047078</td>\n",
       "      <td>0.006323</td>\n",
       "      <td>-0.006820</td>\n",
       "      <td>-0.034194</td>\n",
       "      <td>0.186669</td>\n",
       "      <td>-0.122974</td>\n",
       "      <td>-0.949487</td>\n",
       "      <td>0.012444</td>\n",
       "      <td>0.008143</td>\n",
       "      <td>-0.950442</td>\n",
       "      <td>0.148358</td>\n",
       "      <td>1.000000</td>\n",
       "      <td>0.000927</td>\n",
       "      <td>-0.030713</td>\n",
       "      <td>-0.031073</td>\n",
       "    </tr>\n",
       "    <tr>\n",
       "      <th>trip_duration</th>\n",
       "      <td>0.033163</td>\n",
       "      <td>0.005422</td>\n",
       "      <td>0.004178</td>\n",
       "      <td>0.009875</td>\n",
       "      <td>0.005865</td>\n",
       "      <td>0.094999</td>\n",
       "      <td>0.097056</td>\n",
       "      <td>-0.000494</td>\n",
       "      <td>-0.003123</td>\n",
       "      <td>0.041574</td>\n",
       "      <td>0.024953</td>\n",
       "      <td>-0.001059</td>\n",
       "      <td>0.093249</td>\n",
       "      <td>0.000927</td>\n",
       "      <td>1.000000</td>\n",
       "      <td>-0.009933</td>\n",
       "      <td>-0.017336</td>\n",
       "    </tr>\n",
       "    <tr>\n",
       "      <th>pickup_hour</th>\n",
       "      <td>0.007428</td>\n",
       "      <td>-0.032634</td>\n",
       "      <td>-0.041547</td>\n",
       "      <td>-0.008767</td>\n",
       "      <td>0.002513</td>\n",
       "      <td>-0.075144</td>\n",
       "      <td>-0.055679</td>\n",
       "      <td>0.290111</td>\n",
       "      <td>0.032024</td>\n",
       "      <td>-0.025620</td>\n",
       "      <td>-0.033833</td>\n",
       "      <td>0.030629</td>\n",
       "      <td>-0.046709</td>\n",
       "      <td>-0.030713</td>\n",
       "      <td>-0.009933</td>\n",
       "      <td>1.000000</td>\n",
       "      <td>0.938522</td>\n",
       "    </tr>\n",
       "    <tr>\n",
       "      <th>dropoff_hour</th>\n",
       "      <td>0.005458</td>\n",
       "      <td>-0.032237</td>\n",
       "      <td>-0.048380</td>\n",
       "      <td>-0.005199</td>\n",
       "      <td>0.001064</td>\n",
       "      <td>-0.074505</td>\n",
       "      <td>-0.050967</td>\n",
       "      <td>0.274971</td>\n",
       "      <td>0.031734</td>\n",
       "      <td>-0.022054</td>\n",
       "      <td>-0.027645</td>\n",
       "      <td>0.031011</td>\n",
       "      <td>-0.041851</td>\n",
       "      <td>-0.031073</td>\n",
       "      <td>-0.017336</td>\n",
       "      <td>0.938522</td>\n",
       "      <td>1.000000</td>\n",
       "    </tr>\n",
       "  </tbody>\n",
       "</table>\n",
       "</div>"
      ],
      "text/plain": [
       "                       VendorID  RatecodeID  PULocationID  DOLocationID  \\\n",
       "VendorID               1.000000    0.021197      0.010105      0.005535   \n",
       "RatecodeID             0.021197    1.000000      0.047384      0.007553   \n",
       "PULocationID           0.010105    0.047384      1.000000      0.115796   \n",
       "DOLocationID           0.005535    0.007553      0.115796      1.000000   \n",
       "passenger_count        0.089941   -0.007534      0.017805      0.001737   \n",
       "trip_distance         -0.012368    0.024008      0.046050      0.077875   \n",
       "fare_amount           -0.015170    0.240224      0.038883      0.068595   \n",
       "extra                 -0.002928   -0.115548      0.034891     -0.024131   \n",
       "mta_tax               -0.019976   -0.948705     -0.050845     -0.004218   \n",
       "tip_amount            -0.015129    0.048481      0.032825      0.050228   \n",
       "tolls_amount          -0.006434    0.073708      0.015614      0.007514   \n",
       "improvement_surcharge -0.014845   -0.918777     -0.051030     -0.011194   \n",
       "total_amount          -0.013795    0.207071      0.041684      0.068112   \n",
       "trip_type              0.021722    0.965069      0.047078      0.006323   \n",
       "trip_duration          0.033163    0.005422      0.004178      0.009875   \n",
       "pickup_hour            0.007428   -0.032634     -0.041547     -0.008767   \n",
       "dropoff_hour           0.005458   -0.032237     -0.048380     -0.005199   \n",
       "\n",
       "                       passenger_count  trip_distance  fare_amount     extra  \\\n",
       "VendorID                      0.089941      -0.012368    -0.015170 -0.002928   \n",
       "RatecodeID                   -0.007534       0.024008     0.240224 -0.115548   \n",
       "PULocationID                  0.017805       0.046050     0.038883  0.034891   \n",
       "DOLocationID                  0.001737       0.077875     0.068595 -0.024131   \n",
       "passenger_count               1.000000       0.004571     0.012379  0.013973   \n",
       "trip_distance                 0.004571       1.000000     0.849055 -0.029214   \n",
       "fare_amount                   0.012379       0.849055     1.000000 -0.052323   \n",
       "extra                         0.013973      -0.029214    -0.052323  1.000000   \n",
       "mta_tax                       0.008922       0.007278    -0.206742  0.125411   \n",
       "tip_amount                    0.005548       0.515898     0.499567  0.003189   \n",
       "tolls_amount                 -0.002077       0.344512     0.295874 -0.014903   \n",
       "improvement_surcharge         0.009820       0.035358    -0.168376  0.122609   \n",
       "total_amount                  0.012423       0.858683     0.975988 -0.013865   \n",
       "trip_type                    -0.006820      -0.034194     0.186669 -0.122974   \n",
       "trip_duration                 0.005865       0.094999     0.097056 -0.000494   \n",
       "pickup_hour                   0.002513      -0.075144    -0.055679  0.290111   \n",
       "dropoff_hour                  0.001064      -0.074505    -0.050967  0.274971   \n",
       "\n",
       "                        mta_tax  tip_amount  tolls_amount  \\\n",
       "VendorID              -0.019976   -0.015129     -0.006434   \n",
       "RatecodeID            -0.948705    0.048481      0.073708   \n",
       "PULocationID          -0.050845    0.032825      0.015614   \n",
       "DOLocationID          -0.004218    0.050228      0.007514   \n",
       "passenger_count        0.008922    0.005548     -0.002077   \n",
       "trip_distance          0.007278    0.515898      0.344512   \n",
       "fare_amount           -0.206742    0.499567      0.295874   \n",
       "extra                  0.125411    0.003189     -0.014903   \n",
       "mta_tax                1.000000   -0.029901     -0.067510   \n",
       "tip_amount            -0.029901    1.000000      0.236958   \n",
       "tolls_amount          -0.067510    0.236958      1.000000   \n",
       "improvement_surcharge  0.945611   -0.006481     -0.007843   \n",
       "total_amount          -0.173570    0.659944      0.381810   \n",
       "trip_type             -0.949487    0.012444      0.008143   \n",
       "trip_duration         -0.003123    0.041574      0.024953   \n",
       "pickup_hour            0.032024   -0.025620     -0.033833   \n",
       "dropoff_hour           0.031734   -0.022054     -0.027645   \n",
       "\n",
       "                       improvement_surcharge  total_amount  trip_type  \\\n",
       "VendorID                           -0.014845     -0.013795   0.021722   \n",
       "RatecodeID                         -0.918777      0.207071   0.965069   \n",
       "PULocationID                       -0.051030      0.041684   0.047078   \n",
       "DOLocationID                       -0.011194      0.068112   0.006323   \n",
       "passenger_count                     0.009820      0.012423  -0.006820   \n",
       "trip_distance                       0.035358      0.858683  -0.034194   \n",
       "fare_amount                        -0.168376      0.975988   0.186669   \n",
       "extra                               0.122609     -0.013865  -0.122974   \n",
       "mta_tax                             0.945611     -0.173570  -0.949487   \n",
       "tip_amount                         -0.006481      0.659944   0.012444   \n",
       "tolls_amount                       -0.007843      0.381810   0.008143   \n",
       "improvement_surcharge               1.000000     -0.131442  -0.950442   \n",
       "total_amount                       -0.131442      1.000000   0.148358   \n",
       "trip_type                          -0.950442      0.148358   1.000000   \n",
       "trip_duration                      -0.001059      0.093249   0.000927   \n",
       "pickup_hour                         0.030629     -0.046709  -0.030713   \n",
       "dropoff_hour                        0.031011     -0.041851  -0.031073   \n",
       "\n",
       "                       trip_duration  pickup_hour  dropoff_hour  \n",
       "VendorID                    0.033163     0.007428      0.005458  \n",
       "RatecodeID                  0.005422    -0.032634     -0.032237  \n",
       "PULocationID                0.004178    -0.041547     -0.048380  \n",
       "DOLocationID                0.009875    -0.008767     -0.005199  \n",
       "passenger_count             0.005865     0.002513      0.001064  \n",
       "trip_distance               0.094999    -0.075144     -0.074505  \n",
       "fare_amount                 0.097056    -0.055679     -0.050967  \n",
       "extra                      -0.000494     0.290111      0.274971  \n",
       "mta_tax                    -0.003123     0.032024      0.031734  \n",
       "tip_amount                  0.041574    -0.025620     -0.022054  \n",
       "tolls_amount                0.024953    -0.033833     -0.027645  \n",
       "improvement_surcharge      -0.001059     0.030629      0.031011  \n",
       "total_amount                0.093249    -0.046709     -0.041851  \n",
       "trip_type                   0.000927    -0.030713     -0.031073  \n",
       "trip_duration               1.000000    -0.009933     -0.017336  \n",
       "pickup_hour                -0.009933     1.000000      0.938522  \n",
       "dropoff_hour               -0.017336     0.938522      1.000000  "
      ]
     },
     "execution_count": 349,
     "metadata": {},
     "output_type": "execute_result"
    }
   ],
   "source": [
    "# Correlation analysis for tip amount\n",
    "corrMatrix = green_tx.corr()\n",
    "corrMatrix"
   ]
  },
  {
   "cell_type": "code",
   "execution_count": 350,
   "metadata": {},
   "outputs": [
    {
     "data": {
      "image/png": "[encoded data removed]",
      "text/plain": [
       "<Figure size 720x720 with 2 Axes>"
      ]
     },
     "metadata": {
      "needs_background": "light"
     },
     "output_type": "display_data"
    }
   ],
   "source": [
    "# Showing correlation using heatmap for highest correlated features\n",
    "highest_corr_features = corrMatrix.index[abs(corrMatrix[\"tip_amount\"])>.1]\n",
    "plt.figure(figsize=(10,10))\n",
    "g = sns.heatmap(green_tx[highest_corr_features].corr(),annot=True,cmap=\"PuRd_r\")"
   ]
  },
  {
   "cell_type": "markdown",
   "metadata": {},
   "source": [
    "Here are the important predictors which are highly correlated with tip amount"
   ]
  },
  {
   "cell_type": "code",
   "execution_count": 351,
   "metadata": {},
   "outputs": [
    {
     "data": {
      "text/plain": [
       "tip_amount               1.000000\n",
       "total_amount             0.659944\n",
       "trip_distance            0.515898\n",
       "fare_amount              0.499567\n",
       "tolls_amount             0.236958\n",
       "DOLocationID             0.050228\n",
       "RatecodeID               0.048481\n",
       "trip_duration            0.041574\n",
       "PULocationID             0.032825\n",
       "trip_type                0.012444\n",
       "passenger_count          0.005548\n",
       "extra                    0.003189\n",
       "improvement_surcharge   -0.006481\n",
       "VendorID                -0.015129\n",
       "dropoff_hour            -0.022054\n",
       "pickup_hour             -0.025620\n",
       "mta_tax                 -0.029901\n",
       "Name: tip_amount, dtype: float64"
      ]
     },
     "execution_count": 351,
     "metadata": {},
     "output_type": "execute_result"
    }
   ],
   "source": [
    "# Checking the highly correlated features with SalePrice column\n",
    "corrList = corrMatrix['tip_amount'].sort_values(ascending = False)\n",
    "corrList"
   ]
  },
  {
   "cell_type": "code",
   "execution_count": 415,
   "metadata": {},
   "outputs": [],
   "source": [
    "# We can remove the fields which are having less than 0% correlation with tip amount\n",
    "green_tx.drop(['improvement_surcharge','VendorID','dropoff_hour','pickup_hour','mta_tax'], axis=1, inplace=True)"
   ]
  },
  {
   "cell_type": "code",
   "execution_count": 416,
   "metadata": {},
   "outputs": [],
   "source": [
    "#Dropping Datetime columns as we have convered all required data in different columns. \n",
    "green_tx.drop(['lpep_pickup_datetime','lpep_dropoff_datetime'], axis=1, inplace=True)"
   ]
  },
  {
   "cell_type": "code",
   "execution_count": 354,
   "metadata": {},
   "outputs": [
    {
     "data": {
      "text/plain": [
       "Index(['store_and_fwd_flag', 'RatecodeID', 'PULocationID', 'DOLocationID',\n",
       "       'passenger_count', 'trip_distance', 'fare_amount', 'extra',\n",
       "       'tip_amount', 'tolls_amount', 'total_amount', 'trip_type',\n",
       "       'trip_duration', 'pickup_day', 'dropoff_day'],\n",
       "      dtype='object')"
      ]
     },
     "execution_count": 354,
     "metadata": {},
     "output_type": "execute_result"
    }
   ],
   "source": [
    "#Check the available columns\n",
    "green_tx.columns"
   ]
  },
  {
   "cell_type": "code",
   "execution_count": 355,
   "metadata": {},
   "outputs": [
    {
     "data": {
      "text/plain": [
       "<seaborn.axisgrid.PairGrid at 0x19faa17cfd0>"
      ]
     },
     "execution_count": 355,
     "metadata": {},
     "output_type": "execute_result"
    },
    {
     "data": {
      "image/png": "[encoded data removed]",
      "text/plain": [
       "<Figure size 900x900 with 30 Axes>"
      ]
     },
     "metadata": {
      "needs_background": "light"
     },
     "output_type": "display_data"
    }
   ],
   "source": [
    "#Let's analyze the plots for some top correlated fields \n",
    "cols = ['total_amount', 'trip_distance', 'fare_amount', 'tolls_amount','DOLocationID']\n",
    "sns.pairplot(green_tx[cols])"
   ]
  },
  {
   "cell_type": "code",
   "execution_count": 417,
   "metadata": {},
   "outputs": [],
   "source": [
    "#Separating the target from predictors\n",
    "green_tx.drop(['tip_amount'], axis=1, inplace=True)"
   ]
  },
  {
   "cell_type": "code",
   "execution_count": 418,
   "metadata": {},
   "outputs": [],
   "source": [
    "# applying one hot encoding for categorical variables\n",
    "gt_ml=pd.get_dummies(green_tx,columns=['store_and_fwd_flag','pickup_day','dropoff_day'])"
   ]
  },
  {
   "cell_type": "code",
   "execution_count": 419,
   "metadata": {},
   "outputs": [
    {
     "data": {
      "text/html": [
       "<div>\n",
       "<style scoped>\n",
       "    .dataframe tbody tr th:only-of-type {\n",
       "        vertical-align: middle;\n",
       "    }\n",
       "\n",
       "    .dataframe tbody tr th {\n",
       "        vertical-align: top;\n",
       "    }\n",
       "\n",
       "    .dataframe thead th {\n",
       "        text-align: right;\n",
       "    }\n",
       "</style>\n",
       "<table border=\"1\" class=\"dataframe\">\n",
       "  <thead>\n",
       "    <tr style=\"text-align: right;\">\n",
       "      <th></th>\n",
       "      <th>RatecodeID</th>\n",
       "      <th>PULocationID</th>\n",
       "      <th>DOLocationID</th>\n",
       "      <th>passenger_count</th>\n",
       "      <th>trip_distance</th>\n",
       "      <th>fare_amount</th>\n",
       "      <th>extra</th>\n",
       "      <th>tolls_amount</th>\n",
       "      <th>total_amount</th>\n",
       "      <th>trip_type</th>\n",
       "      <th>trip_duration</th>\n",
       "      <th>store_and_fwd_flag_N</th>\n",
       "      <th>store_and_fwd_flag_Y</th>\n",
       "      <th>pickup_day_Friday</th>\n",
       "      <th>pickup_day_Monday</th>\n",
       "      <th>pickup_day_Saturday</th>\n",
       "      <th>pickup_day_Sunday</th>\n",
       "      <th>pickup_day_Thursday</th>\n",
       "      <th>pickup_day_Tuesday</th>\n",
       "      <th>pickup_day_Wednesday</th>\n",
       "      <th>dropoff_day_Friday</th>\n",
       "      <th>dropoff_day_Monday</th>\n",
       "      <th>dropoff_day_Saturday</th>\n",
       "      <th>dropoff_day_Sunday</th>\n",
       "      <th>dropoff_day_Thursday</th>\n",
       "      <th>dropoff_day_Tuesday</th>\n",
       "      <th>dropoff_day_Wednesday</th>\n",
       "    </tr>\n",
       "  </thead>\n",
       "  <tbody>\n",
       "    <tr>\n",
       "      <th>24433</th>\n",
       "      <td>1</td>\n",
       "      <td>244</td>\n",
       "      <td>45</td>\n",
       "      <td>1</td>\n",
       "      <td>10.33</td>\n",
       "      <td>36.0</td>\n",
       "      <td>1.0</td>\n",
       "      <td>0.0</td>\n",
       "      <td>43.47</td>\n",
       "      <td>1</td>\n",
       "      <td>2.528000e-06</td>\n",
       "      <td>1</td>\n",
       "      <td>0</td>\n",
       "      <td>0</td>\n",
       "      <td>0</td>\n",
       "      <td>0</td>\n",
       "      <td>0</td>\n",
       "      <td>1</td>\n",
       "      <td>0</td>\n",
       "      <td>0</td>\n",
       "      <td>0</td>\n",
       "      <td>0</td>\n",
       "      <td>0</td>\n",
       "      <td>0</td>\n",
       "      <td>1</td>\n",
       "      <td>0</td>\n",
       "      <td>0</td>\n",
       "    </tr>\n",
       "    <tr>\n",
       "      <th>1021705</th>\n",
       "      <td>1</td>\n",
       "      <td>244</td>\n",
       "      <td>238</td>\n",
       "      <td>1</td>\n",
       "      <td>4.14</td>\n",
       "      <td>16.0</td>\n",
       "      <td>0.5</td>\n",
       "      <td>0.0</td>\n",
       "      <td>19.03</td>\n",
       "      <td>1</td>\n",
       "      <td>1.083000e-06</td>\n",
       "      <td>1</td>\n",
       "      <td>0</td>\n",
       "      <td>0</td>\n",
       "      <td>0</td>\n",
       "      <td>0</td>\n",
       "      <td>1</td>\n",
       "      <td>0</td>\n",
       "      <td>0</td>\n",
       "      <td>0</td>\n",
       "      <td>0</td>\n",
       "      <td>0</td>\n",
       "      <td>0</td>\n",
       "      <td>1</td>\n",
       "      <td>0</td>\n",
       "      <td>0</td>\n",
       "      <td>0</td>\n",
       "    </tr>\n",
       "    <tr>\n",
       "      <th>617509</th>\n",
       "      <td>1</td>\n",
       "      <td>255</td>\n",
       "      <td>179</td>\n",
       "      <td>1</td>\n",
       "      <td>7.85</td>\n",
       "      <td>25.0</td>\n",
       "      <td>0.5</td>\n",
       "      <td>0.0</td>\n",
       "      <td>31.56</td>\n",
       "      <td>1</td>\n",
       "      <td>1.334000e-06</td>\n",
       "      <td>1</td>\n",
       "      <td>0</td>\n",
       "      <td>0</td>\n",
       "      <td>0</td>\n",
       "      <td>0</td>\n",
       "      <td>0</td>\n",
       "      <td>1</td>\n",
       "      <td>0</td>\n",
       "      <td>0</td>\n",
       "      <td>1</td>\n",
       "      <td>0</td>\n",
       "      <td>0</td>\n",
       "      <td>0</td>\n",
       "      <td>0</td>\n",
       "      <td>0</td>\n",
       "      <td>0</td>\n",
       "    </tr>\n",
       "    <tr>\n",
       "      <th>1199605</th>\n",
       "      <td>1</td>\n",
       "      <td>226</td>\n",
       "      <td>7</td>\n",
       "      <td>1</td>\n",
       "      <td>2.14</td>\n",
       "      <td>9.5</td>\n",
       "      <td>0.0</td>\n",
       "      <td>0.0</td>\n",
       "      <td>13.79</td>\n",
       "      <td>1</td>\n",
       "      <td>5.830000e-07</td>\n",
       "      <td>1</td>\n",
       "      <td>0</td>\n",
       "      <td>0</td>\n",
       "      <td>0</td>\n",
       "      <td>1</td>\n",
       "      <td>0</td>\n",
       "      <td>0</td>\n",
       "      <td>0</td>\n",
       "      <td>0</td>\n",
       "      <td>0</td>\n",
       "      <td>0</td>\n",
       "      <td>1</td>\n",
       "      <td>0</td>\n",
       "      <td>0</td>\n",
       "      <td>0</td>\n",
       "      <td>0</td>\n",
       "    </tr>\n",
       "    <tr>\n",
       "      <th>855186</th>\n",
       "      <td>1</td>\n",
       "      <td>74</td>\n",
       "      <td>75</td>\n",
       "      <td>1</td>\n",
       "      <td>1.58</td>\n",
       "      <td>8.5</td>\n",
       "      <td>0.0</td>\n",
       "      <td>0.0</td>\n",
       "      <td>11.30</td>\n",
       "      <td>1</td>\n",
       "      <td>5.480000e-07</td>\n",
       "      <td>1</td>\n",
       "      <td>0</td>\n",
       "      <td>0</td>\n",
       "      <td>0</td>\n",
       "      <td>0</td>\n",
       "      <td>0</td>\n",
       "      <td>0</td>\n",
       "      <td>0</td>\n",
       "      <td>1</td>\n",
       "      <td>0</td>\n",
       "      <td>0</td>\n",
       "      <td>0</td>\n",
       "      <td>0</td>\n",
       "      <td>0</td>\n",
       "      <td>0</td>\n",
       "      <td>1</td>\n",
       "    </tr>\n",
       "    <tr>\n",
       "      <th>85060</th>\n",
       "      <td>1</td>\n",
       "      <td>25</td>\n",
       "      <td>61</td>\n",
       "      <td>1</td>\n",
       "      <td>2.80</td>\n",
       "      <td>12.0</td>\n",
       "      <td>0.5</td>\n",
       "      <td>0.0</td>\n",
       "      <td>15.95</td>\n",
       "      <td>1</td>\n",
       "      <td>8.310000e-07</td>\n",
       "      <td>1</td>\n",
       "      <td>0</td>\n",
       "      <td>1</td>\n",
       "      <td>0</td>\n",
       "      <td>0</td>\n",
       "      <td>0</td>\n",
       "      <td>0</td>\n",
       "      <td>0</td>\n",
       "      <td>0</td>\n",
       "      <td>1</td>\n",
       "      <td>0</td>\n",
       "      <td>0</td>\n",
       "      <td>0</td>\n",
       "      <td>0</td>\n",
       "      <td>0</td>\n",
       "      <td>0</td>\n",
       "    </tr>\n",
       "    <tr>\n",
       "      <th>840825</th>\n",
       "      <td>1</td>\n",
       "      <td>129</td>\n",
       "      <td>260</td>\n",
       "      <td>1</td>\n",
       "      <td>1.73</td>\n",
       "      <td>8.0</td>\n",
       "      <td>0.0</td>\n",
       "      <td>0.0</td>\n",
       "      <td>8.80</td>\n",
       "      <td>1</td>\n",
       "      <td>4.790000e-07</td>\n",
       "      <td>1</td>\n",
       "      <td>0</td>\n",
       "      <td>0</td>\n",
       "      <td>0</td>\n",
       "      <td>0</td>\n",
       "      <td>0</td>\n",
       "      <td>0</td>\n",
       "      <td>0</td>\n",
       "      <td>1</td>\n",
       "      <td>0</td>\n",
       "      <td>0</td>\n",
       "      <td>0</td>\n",
       "      <td>0</td>\n",
       "      <td>0</td>\n",
       "      <td>0</td>\n",
       "      <td>1</td>\n",
       "    </tr>\n",
       "    <tr>\n",
       "      <th>1197335</th>\n",
       "      <td>1</td>\n",
       "      <td>42</td>\n",
       "      <td>41</td>\n",
       "      <td>1</td>\n",
       "      <td>0.69</td>\n",
       "      <td>5.0</td>\n",
       "      <td>0.0</td>\n",
       "      <td>0.0</td>\n",
       "      <td>5.80</td>\n",
       "      <td>1</td>\n",
       "      <td>2.930000e-07</td>\n",
       "      <td>1</td>\n",
       "      <td>0</td>\n",
       "      <td>0</td>\n",
       "      <td>0</td>\n",
       "      <td>1</td>\n",
       "      <td>0</td>\n",
       "      <td>0</td>\n",
       "      <td>0</td>\n",
       "      <td>0</td>\n",
       "      <td>0</td>\n",
       "      <td>0</td>\n",
       "      <td>1</td>\n",
       "      <td>0</td>\n",
       "      <td>0</td>\n",
       "      <td>0</td>\n",
       "      <td>0</td>\n",
       "    </tr>\n",
       "    <tr>\n",
       "      <th>1159299</th>\n",
       "      <td>5</td>\n",
       "      <td>241</td>\n",
       "      <td>241</td>\n",
       "      <td>1</td>\n",
       "      <td>0.00</td>\n",
       "      <td>7.0</td>\n",
       "      <td>0.0</td>\n",
       "      <td>0.0</td>\n",
       "      <td>7.00</td>\n",
       "      <td>2</td>\n",
       "      <td>8.000000e-09</td>\n",
       "      <td>1</td>\n",
       "      <td>0</td>\n",
       "      <td>1</td>\n",
       "      <td>0</td>\n",
       "      <td>0</td>\n",
       "      <td>0</td>\n",
       "      <td>0</td>\n",
       "      <td>0</td>\n",
       "      <td>0</td>\n",
       "      <td>1</td>\n",
       "      <td>0</td>\n",
       "      <td>0</td>\n",
       "      <td>0</td>\n",
       "      <td>0</td>\n",
       "      <td>0</td>\n",
       "      <td>0</td>\n",
       "    </tr>\n",
       "    <tr>\n",
       "      <th>1145690</th>\n",
       "      <td>1</td>\n",
       "      <td>97</td>\n",
       "      <td>97</td>\n",
       "      <td>1</td>\n",
       "      <td>0.60</td>\n",
       "      <td>4.0</td>\n",
       "      <td>0.0</td>\n",
       "      <td>0.0</td>\n",
       "      <td>4.80</td>\n",
       "      <td>1</td>\n",
       "      <td>1.260000e-07</td>\n",
       "      <td>1</td>\n",
       "      <td>0</td>\n",
       "      <td>1</td>\n",
       "      <td>0</td>\n",
       "      <td>0</td>\n",
       "      <td>0</td>\n",
       "      <td>0</td>\n",
       "      <td>0</td>\n",
       "      <td>0</td>\n",
       "      <td>1</td>\n",
       "      <td>0</td>\n",
       "      <td>0</td>\n",
       "      <td>0</td>\n",
       "      <td>0</td>\n",
       "      <td>0</td>\n",
       "      <td>0</td>\n",
       "    </tr>\n",
       "  </tbody>\n",
       "</table>\n",
       "</div>"
      ],
      "text/plain": [
       "         RatecodeID  PULocationID  DOLocationID  passenger_count  \\\n",
       "24433             1           244            45                1   \n",
       "1021705           1           244           238                1   \n",
       "617509            1           255           179                1   \n",
       "1199605           1           226             7                1   \n",
       "855186            1            74            75                1   \n",
       "85060             1            25            61                1   \n",
       "840825            1           129           260                1   \n",
       "1197335           1            42            41                1   \n",
       "1159299           5           241           241                1   \n",
       "1145690           1            97            97                1   \n",
       "\n",
       "         trip_distance  fare_amount  extra  tolls_amount  total_amount  \\\n",
       "24433            10.33         36.0    1.0           0.0         43.47   \n",
       "1021705           4.14         16.0    0.5           0.0         19.03   \n",
       "617509            7.85         25.0    0.5           0.0         31.56   \n",
       "1199605           2.14          9.5    0.0           0.0         13.79   \n",
       "855186            1.58          8.5    0.0           0.0         11.30   \n",
       "85060             2.80         12.0    0.5           0.0         15.95   \n",
       "840825            1.73          8.0    0.0           0.0          8.80   \n",
       "1197335           0.69          5.0    0.0           0.0          5.80   \n",
       "1159299           0.00          7.0    0.0           0.0          7.00   \n",
       "1145690           0.60          4.0    0.0           0.0          4.80   \n",
       "\n",
       "         trip_type  trip_duration  store_and_fwd_flag_N  store_and_fwd_flag_Y  \\\n",
       "24433            1   2.528000e-06                     1                     0   \n",
       "1021705          1   1.083000e-06                     1                     0   \n",
       "617509           1   1.334000e-06                     1                     0   \n",
       "1199605          1   5.830000e-07                     1                     0   \n",
       "855186           1   5.480000e-07                     1                     0   \n",
       "85060            1   8.310000e-07                     1                     0   \n",
       "840825           1   4.790000e-07                     1                     0   \n",
       "1197335          1   2.930000e-07                     1                     0   \n",
       "1159299          2   8.000000e-09                     1                     0   \n",
       "1145690          1   1.260000e-07                     1                     0   \n",
       "\n",
       "         pickup_day_Friday  pickup_day_Monday  pickup_day_Saturday  \\\n",
       "24433                    0                  0                    0   \n",
       "1021705                  0                  0                    0   \n",
       "617509                   0                  0                    0   \n",
       "1199605                  0                  0                    1   \n",
       "855186                   0                  0                    0   \n",
       "85060                    1                  0                    0   \n",
       "840825                   0                  0                    0   \n",
       "1197335                  0                  0                    1   \n",
       "1159299                  1                  0                    0   \n",
       "1145690                  1                  0                    0   \n",
       "\n",
       "         pickup_day_Sunday  pickup_day_Thursday  pickup_day_Tuesday  \\\n",
       "24433                    0                    1                   0   \n",
       "1021705                  1                    0                   0   \n",
       "617509                   0                    1                   0   \n",
       "1199605                  0                    0                   0   \n",
       "855186                   0                    0                   0   \n",
       "85060                    0                    0                   0   \n",
       "840825                   0                    0                   0   \n",
       "1197335                  0                    0                   0   \n",
       "1159299                  0                    0                   0   \n",
       "1145690                  0                    0                   0   \n",
       "\n",
       "         pickup_day_Wednesday  dropoff_day_Friday  dropoff_day_Monday  \\\n",
       "24433                       0                   0                   0   \n",
       "1021705                     0                   0                   0   \n",
       "617509                      0                   1                   0   \n",
       "1199605                     0                   0                   0   \n",
       "855186                      1                   0                   0   \n",
       "85060                       0                   1                   0   \n",
       "840825                      1                   0                   0   \n",
       "1197335                     0                   0                   0   \n",
       "1159299                     0                   1                   0   \n",
       "1145690                     0                   1                   0   \n",
       "\n",
       "         dropoff_day_Saturday  dropoff_day_Sunday  dropoff_day_Thursday  \\\n",
       "24433                       0                   0                     1   \n",
       "1021705                     0                   1                     0   \n",
       "617509                      0                   0                     0   \n",
       "1199605                     1                   0                     0   \n",
       "855186                      0                   0                     0   \n",
       "85060                       0                   0                     0   \n",
       "840825                      0                   0                     0   \n",
       "1197335                     1                   0                     0   \n",
       "1159299                     0                   0                     0   \n",
       "1145690                     0                   0                     0   \n",
       "\n",
       "         dropoff_day_Tuesday  dropoff_day_Wednesday  \n",
       "24433                      0                      0  \n",
       "1021705                    0                      0  \n",
       "617509                     0                      0  \n",
       "1199605                    0                      0  \n",
       "855186                     0                      1  \n",
       "85060                      0                      0  \n",
       "840825                     0                      1  \n",
       "1197335                    0                      0  \n",
       "1159299                    0                      0  \n",
       "1145690                    0                      0  "
      ]
     },
     "execution_count": 419,
     "metadata": {},
     "output_type": "execute_result"
    }
   ],
   "source": [
    "# Verifying the final dataset before applying ML algirithm\n",
    "pd.set_option('max_columns', 50)\n",
    "gt_ml.sample(10)"
   ]
  },
  {
   "cell_type": "markdown",
   "metadata": {},
   "source": [
    "### Model Selection and Evaluation"
   ]
  },
  {
   "cell_type": "markdown",
   "metadata": {},
   "source": [
    "As it'a regression problem, we will first check linear regression with lasso to reduce multicollinearity issue as a penalized term. Additionally We will check the  xgboost regressor as well to compare the evaluation.For this assignment , RMSE will be treated as performance metrics."
   ]
  },
  {
   "cell_type": "code",
   "execution_count": 421,
   "metadata": {},
   "outputs": [],
   "source": [
    "from sklearn.model_selection import KFold\n",
    "from sklearn.model_selection import train_test_split\n",
    "from sklearn.model_selection import cross_val_score\n",
    "from sklearn.metrics import make_scorer\n",
    "from sklearn.metrics import mean_squared_error, mean_absolute_error\n",
    "from sklearn.linear_model import LinearRegression,Ridge,Lasso\n",
    "from sklearn import ensemble\n",
    "from sklearn.ensemble import RandomForestRegressor\n",
    "import xgboost as xgb\n",
    "from numpy import mean\n",
    "from numpy import absolute\n",
    "from numpy import sqrt"
   ]
  },
  {
   "cell_type": "code",
   "execution_count": 425,
   "metadata": {},
   "outputs": [],
   "source": [
    "# Split the dataset in train-test in 80-20 ratio\n",
    "X_train, X_test, Y_train, Y_test = train_test_split(gt_ml, Y_tip_orig, test_size=0.2, random_state=42)"
   ]
  },
  {
   "cell_type": "code",
   "execution_count": 426,
   "metadata": {},
   "outputs": [
    {
     "data": {
      "text/plain": [
       "((465468, 27), (465468,), (116367, 27), (116367,))"
      ]
     },
     "execution_count": 426,
     "metadata": {},
     "output_type": "execute_result"
    }
   ],
   "source": [
    "# Checking size after spitting data\n",
    "X_train.shape,Y_train.shape,X_test.shape,Y_test.shape"
   ]
  },
  {
   "cell_type": "code",
   "execution_count": 314,
   "metadata": {},
   "outputs": [],
   "source": [
    "# 10 fold cross validation check to compare models\n",
    "scorer = make_scorer(mean_squared_error,greater_is_better = False)\n",
    "def rmse_CV_train(model):\n",
    "    kf = KFold(10,shuffle=True,random_state=42).get_n_splits(X_train.values)\n",
    "    rmse = np.sqrt(-cross_val_score(model, X_train, Y_train,scoring =\"neg_mean_squared_error\",cv=kf))\n",
    "    return (rmse)"
   ]
  },
  {
   "cell_type": "code",
   "execution_count": 429,
   "metadata": {},
   "outputs": [
    {
     "name": "stdout",
     "output_type": "stream",
     "text": [
      "--------------------------------------------------\n",
      "RMSE for Lasso Regression:1.2523872587018838\n",
      "--------------------------------------------------\n",
      "--------------------------------------------------\n",
      "RMSE for XG Boosting Regression:0.46433688621418856\n"
     ]
    }
   ],
   "source": [
    "# Applying cross validation to evaluate both the models\n",
    "ls = Lasso()\n",
    "rmse_CV_train(ls)\n",
    "print(f\"RMSE for Lasso Regression:{rmse_CV_train(ls).mean()}\")\n",
    "\n",
    "print('-'*50)\n",
    "print('-'*50)\n",
    "\n",
    "xb = xgb.XGBRegressor()\n",
    "rmse_CV_train(xb)\n",
    "print(f\"RMSE for XG Boosting Regression:{rmse_CV_train(xb).mean()}\")\n"
   ]
  },
  {
   "cell_type": "code",
   "execution_count": 441,
   "metadata": {},
   "outputs": [
    {
     "name": "stdout",
     "output_type": "stream",
     "text": [
      "R^2 for train set: 0.979162\n",
      "Train RMSE: 0.3875538416806239\n",
      "--------------------------------------------------\n",
      "R^2 for test set: 0.981295\n",
      "test RMSE: 0.38656965422660394\n",
      "--------------------------------------------------\n"
     ]
    }
   ],
   "source": [
    "# Tuning lasso regression with hyperparameter to compare the performance metrics\n",
    "lasso = Lasso()\n",
    "\n",
    "\n",
    "lasso.set_params(normalize=False)\n",
    "coefs_lasso  = []\n",
    "scores = []\n",
    "\n",
    "lasso.set_params(alpha=0.01)\n",
    "lasso.fit(X_train,Y_train)\n",
    "pred = lasso.predict(X_train)\n",
    "\n",
    "print(\"R^2 for train set: %f\" %lasso.score(X_train,Y_train))\n",
    "print(f\"Train RMSE: {np.sqrt(mean_squared_error(Y_train, pred))}\")\n",
    "print('-'*50)\n",
    "\n",
    "lasso.set_params(alpha=0.01)\n",
    "lasso.fit(X_test,Y_test)\n",
    "pred = lasso.predict(X_test)\n",
    "\n",
    "print(\"R^2 for test set: %f\" %lasso.score(X_test,Y_test))\n",
    "print(f\"test RMSE: {np.sqrt(mean_squared_error(Y_test, pred))}\")\n",
    "print('-'*50)"
   ]
  },
  {
   "cell_type": "code",
   "execution_count": 433,
   "metadata": {},
   "outputs": [
    {
     "data": {
      "text/plain": [
       "total_amount             0.965921\n",
       "fare_amount              0.964512\n",
       "tolls_amount             0.947914\n",
       "extra                    0.852484\n",
       "RatecodeID               0.171089\n",
       "DOLocationID             0.000130\n",
       "PULocationID             0.000032\n",
       "store_and_fwd_flag_Y     0.000000\n",
       "passenger_count          0.000000\n",
       "trip_distance            0.000000\n",
       "trip_type                0.000000\n",
       "trip_duration            0.000000\n",
       "store_and_fwd_flag_N     0.000000\n",
       "dropoff_day_Wednesday    0.000000\n",
       "dropoff_day_Tuesday      0.000000\n",
       "pickup_day_Monday        0.000000\n",
       "pickup_day_Saturday      0.000000\n",
       "pickup_day_Sunday        0.000000\n",
       "pickup_day_Thursday      0.000000\n",
       "pickup_day_Tuesday       0.000000\n",
       "pickup_day_Wednesday     0.000000\n",
       "dropoff_day_Friday       0.000000\n",
       "dropoff_day_Monday       0.000000\n",
       "dropoff_day_Saturday     0.000000\n",
       "dropoff_day_Sunday       0.000000\n",
       "dropoff_day_Thursday     0.000000\n",
       "pickup_day_Friday        0.000000\n",
       "dtype: float64"
      ]
     },
     "execution_count": 433,
     "metadata": {},
     "output_type": "execute_result"
    }
   ],
   "source": [
    "lassoCoef = pd.Series(lasso.coef_, index=X_train.columns)\n",
    "sortedCoefs = np.abs(lassoCoef).sort_values(ascending=False)\n",
    "sortedCoefs"
   ]
  },
  {
   "cell_type": "code",
   "execution_count": 435,
   "metadata": {},
   "outputs": [
    {
     "data": {
      "text/plain": [
       "Text(0.5, 1.0, 'Feature Importance Plot for lasso regression')"
      ]
     },
     "execution_count": 435,
     "metadata": {},
     "output_type": "execute_result"
    },
    {
     "data": {
      "image/png": "[encoded data removed]",
      "text/plain": [
       "<Figure size 432x288 with 1 Axes>"
      ]
     },
     "metadata": {
      "needs_background": "light"
     },
     "output_type": "display_data"
    }
   ],
   "source": [
    "plt.figure(figsize = ((6, 4)))\n",
    "#a, b = zip(*sorted_importance) # this splits the list of tuples into two lists\n",
    "sortedCoefs.head(10).plot.bar(x='feature_name',y='importance_score', legend=None, figsize = (6,4))\n",
    "plt.title('Feature Importance Plot for lasso regression')"
   ]
  },
  {
   "cell_type": "code",
   "execution_count": null,
   "metadata": {},
   "outputs": [],
   "source": [
    "# Applying Grid-Search for max-depth and n-estimator values\n",
    "import xgboost as xgb\n",
    "xg = xgb.XGBRegressor()\n",
    "\n",
    "from sklearn.model_selection import GridSearchCV\n",
    "\n",
    "params = {'max_depth':(3, 4, 5),'n_estimators':(100,500, 1000)}\n",
    "gs = GridSearchCV(xg, params)\n",
    "gs.fit(X_train,Y_train)\n",
    "\n",
    "\n",
    "# print best parameter after tuning \n",
    "print(gs.best_params_) "
   ]
  },
  {
   "cell_type": "code",
   "execution_count": 443,
   "metadata": {},
   "outputs": [
    {
     "name": "stdout",
     "output_type": "stream",
     "text": [
      "R^2 for train set: 0.973585\n",
      "Train RMSE: 0.4363454465879168\n",
      "--------------------------------------------------\n",
      "R^2 for test set: 0.979288\n",
      "test RMSE: 0.4067822925673627\n",
      "--------------------------------------------------\n"
     ]
    }
   ],
   "source": [
    "# Apply XGBoosting model on train/test data\n",
    "import xgboost as xgb\n",
    "xg = xgb.XGBRegressor()\n",
    "\n",
    "n_estimators = 100\n",
    "xg.set_params(max_depth=4, n_estimators=n_estimators)\n",
    "train_r2 = []\n",
    "\n",
    "steps = range(100,1000,10)\n",
    "\n",
    "xg.fit(X_train,Y_train)\n",
    "pred = xg.predict(X_train)\n",
    "\n",
    "print(\"R^2 for train set: %f\" %xg.score(X_train,Y_train))\n",
    "print(f\"Train RMSE: {np.sqrt(mean_squared_error(Y_train, pred))}\")\n",
    "#lm.coef_\n",
    "print('-'*50)\n",
    "\n",
    "xg.fit(X_test,Y_test)\n",
    "pred = xg.predict(X_test)\n",
    "\n",
    "print(\"R^2 for test set: %f\" %xg.score(X_test,Y_test))\n",
    "print(f\"test RMSE: {np.sqrt(mean_squared_error(Y_test, pred))}\")\n",
    "#lm.coef_\n",
    "print('-'*50)"
   ]
  },
  {
   "cell_type": "code",
   "execution_count": 445,
   "metadata": {},
   "outputs": [
    {
     "data": {
      "text/plain": [
       "[('total_amount', 0.3945366),\n",
       " ('fare_amount', 0.30484107),\n",
       " ('tolls_amount', 0.07349689),\n",
       " ('DOLocationID', 0.042715393),\n",
       " ('trip_duration', 0.029479427),\n",
       " ('trip_distance', 0.027122673),\n",
       " ('PULocationID', 0.026698926),\n",
       " ('passenger_count', 0.020973854),\n",
       " ('pickup_day_Wednesday', 0.017353289),\n",
       " ('extra', 0.015271425),\n",
       " ('pickup_day_Monday', 0.014174546),\n",
       " ('pickup_day_Friday', 0.010634306),\n",
       " ('pickup_day_Sunday', 0.005459696),\n",
       " ('trip_type', 0.0053877174),\n",
       " ('RatecodeID', 0.005160273),\n",
       " ('pickup_day_Saturday', 0.0035435394),\n",
       " ('pickup_day_Thursday', 0.00315038),\n",
       " ('store_and_fwd_flag_N', 0.0),\n",
       " ('store_and_fwd_flag_Y', 0.0),\n",
       " ('pickup_day_Tuesday', 0.0),\n",
       " ('dropoff_day_Friday', 0.0),\n",
       " ('dropoff_day_Monday', 0.0),\n",
       " ('dropoff_day_Saturday', 0.0),\n",
       " ('dropoff_day_Sunday', 0.0),\n",
       " ('dropoff_day_Thursday', 0.0),\n",
       " ('dropoff_day_Tuesday', 0.0),\n",
       " ('dropoff_day_Wednesday', 0.0)]"
      ]
     },
     "execution_count": 445,
     "metadata": {},
     "output_type": "execute_result"
    }
   ],
   "source": [
    "sorted_importance = sorted(zip(X_train.columns, xg.feature_importances_), key=lambda t:t[1], reverse=True)\n",
    "sorted_importance"
   ]
  },
  {
   "cell_type": "code",
   "execution_count": 446,
   "metadata": {},
   "outputs": [
    {
     "data": {
      "text/plain": [
       "Text(0.5, 1.0, 'Feature Importance Plot for XG Boosting')"
      ]
     },
     "execution_count": 446,
     "metadata": {},
     "output_type": "execute_result"
    },
    {
     "data": {
      "text/plain": [
       "<Figure size 1080x576 with 0 Axes>"
      ]
     },
     "metadata": {},
     "output_type": "display_data"
    },
    {
     "data": {
      "image/png": "[encoded data removed]",
      "text/plain": [
       "<Figure size 432x288 with 1 Axes>"
      ]
     },
     "metadata": {
      "needs_background": "light"
     },
     "output_type": "display_data"
    }
   ],
   "source": [
    "plt.figure(figsize = ((15, 8)))\n",
    "a, b = zip(*sorted_importance) # this splits the list of tuples into two lists\n",
    "pd.DataFrame({'feature_name':a, 'importance_score':b}).head(10).plot.bar(x='feature_name',y='importance_score', legend=None, figsize = (6,4))\n",
    "plt.title('Feature Importance Plot for XG Boosting')"
   ]
  },
  {
   "cell_type": "markdown",
   "metadata": {},
   "source": [
    "XGBoost works best among the models in term of speed, RMSE, R^2 and feature importance standpoint.It's observed from model evaulation that total amount and fare amount are the most important factor to get the tip amount. The more the total and fare amounts are, the more tip amount should be ideally. So in terms of business stand-point, the trip distance should be a very important factor as well, as more distance means more fare amount. But sometimes there are many other driving factors to have the fare amount high like more time to reach a short distance due to traffic or climate. Will do detail analysis on the anomaly in the next section."
   ]
  },
  {
   "cell_type": "markdown",
   "metadata": {},
   "source": [
    "# Anomaly Detection"
   ]
  },
  {
   "cell_type": "markdown",
   "metadata": {},
   "source": [
    "To figure out if there is any anomaly beteen trip distance and trip duration, I'll use scikit learn isolation Forest algorythm."
   ]
  },
  {
   "cell_type": "code",
   "execution_count": 447,
   "metadata": {},
   "outputs": [
    {
     "data": {
      "text/plain": [
       "<matplotlib.axes._subplots.AxesSubplot at 0x19f96f26b20>"
      ]
     },
     "execution_count": 447,
     "metadata": {},
     "output_type": "execute_result"
    },
    {
     "data": {
      "image/png": "[encoded data removed]",
      "text/plain": [
       "<Figure size 432x288 with 1 Axes>"
      ]
     },
     "metadata": {
      "needs_background": "light"
     },
     "output_type": "display_data"
    }
   ],
   "source": [
    "# Check visualization for scatter plot between distance and duration\n",
    "sns.scatterplot(data=X_train, x=\"trip_distance\", y=\"trip_duration\")"
   ]
  },
  {
   "cell_type": "markdown",
   "metadata": {},
   "source": [
    "The graph shows for many trips, though the distance is very small, it's taking huge time to complete the trip."
   ]
  },
  {
   "cell_type": "code",
   "execution_count": 448,
   "metadata": {},
   "outputs": [
    {
     "data": {
      "text/html": [
       "<div>\n",
       "<style scoped>\n",
       "    .dataframe tbody tr th:only-of-type {\n",
       "        vertical-align: middle;\n",
       "    }\n",
       "\n",
       "    .dataframe tbody tr th {\n",
       "        vertical-align: top;\n",
       "    }\n",
       "\n",
       "    .dataframe thead th {\n",
       "        text-align: right;\n",
       "    }\n",
       "</style>\n",
       "<table border=\"1\" class=\"dataframe\">\n",
       "  <thead>\n",
       "    <tr style=\"text-align: right;\">\n",
       "      <th></th>\n",
       "      <th>RatecodeID</th>\n",
       "      <th>PULocationID</th>\n",
       "      <th>DOLocationID</th>\n",
       "      <th>passenger_count</th>\n",
       "      <th>trip_distance</th>\n",
       "      <th>fare_amount</th>\n",
       "      <th>extra</th>\n",
       "      <th>tolls_amount</th>\n",
       "      <th>total_amount</th>\n",
       "      <th>trip_type</th>\n",
       "      <th>trip_duration</th>\n",
       "      <th>store_and_fwd_flag_N</th>\n",
       "      <th>store_and_fwd_flag_Y</th>\n",
       "      <th>pickup_day_Friday</th>\n",
       "      <th>pickup_day_Monday</th>\n",
       "      <th>pickup_day_Saturday</th>\n",
       "      <th>pickup_day_Sunday</th>\n",
       "      <th>pickup_day_Thursday</th>\n",
       "      <th>pickup_day_Tuesday</th>\n",
       "      <th>pickup_day_Wednesday</th>\n",
       "      <th>dropoff_day_Friday</th>\n",
       "      <th>dropoff_day_Monday</th>\n",
       "      <th>dropoff_day_Saturday</th>\n",
       "      <th>dropoff_day_Sunday</th>\n",
       "      <th>dropoff_day_Thursday</th>\n",
       "      <th>dropoff_day_Tuesday</th>\n",
       "      <th>dropoff_day_Wednesday</th>\n",
       "      <th>Anomaly</th>\n",
       "    </tr>\n",
       "  </thead>\n",
       "  <tbody>\n",
       "    <tr>\n",
       "      <th>455527</th>\n",
       "      <td>1</td>\n",
       "      <td>7</td>\n",
       "      <td>237</td>\n",
       "      <td>1</td>\n",
       "      <td>4.09</td>\n",
       "      <td>27.5</td>\n",
       "      <td>0.0</td>\n",
       "      <td>0.0</td>\n",
       "      <td>33.96</td>\n",
       "      <td>1</td>\n",
       "      <td>2.728000e-06</td>\n",
       "      <td>1</td>\n",
       "      <td>0</td>\n",
       "      <td>0</td>\n",
       "      <td>0</td>\n",
       "      <td>0</td>\n",
       "      <td>1</td>\n",
       "      <td>0</td>\n",
       "      <td>0</td>\n",
       "      <td>0</td>\n",
       "      <td>0</td>\n",
       "      <td>0</td>\n",
       "      <td>0</td>\n",
       "      <td>1</td>\n",
       "      <td>0</td>\n",
       "      <td>0</td>\n",
       "      <td>0</td>\n",
       "      <td>1</td>\n",
       "    </tr>\n",
       "    <tr>\n",
       "      <th>934951</th>\n",
       "      <td>1</td>\n",
       "      <td>66</td>\n",
       "      <td>45</td>\n",
       "      <td>1</td>\n",
       "      <td>1.54</td>\n",
       "      <td>7.0</td>\n",
       "      <td>0.0</td>\n",
       "      <td>0.0</td>\n",
       "      <td>9.80</td>\n",
       "      <td>1</td>\n",
       "      <td>2.840000e-07</td>\n",
       "      <td>1</td>\n",
       "      <td>0</td>\n",
       "      <td>1</td>\n",
       "      <td>0</td>\n",
       "      <td>0</td>\n",
       "      <td>0</td>\n",
       "      <td>0</td>\n",
       "      <td>0</td>\n",
       "      <td>0</td>\n",
       "      <td>1</td>\n",
       "      <td>0</td>\n",
       "      <td>0</td>\n",
       "      <td>0</td>\n",
       "      <td>0</td>\n",
       "      <td>0</td>\n",
       "      <td>0</td>\n",
       "      <td>1</td>\n",
       "    </tr>\n",
       "    <tr>\n",
       "      <th>342620</th>\n",
       "      <td>1</td>\n",
       "      <td>42</td>\n",
       "      <td>74</td>\n",
       "      <td>1</td>\n",
       "      <td>2.26</td>\n",
       "      <td>10.5</td>\n",
       "      <td>0.0</td>\n",
       "      <td>0.0</td>\n",
       "      <td>13.56</td>\n",
       "      <td>1</td>\n",
       "      <td>7.850000e-07</td>\n",
       "      <td>1</td>\n",
       "      <td>0</td>\n",
       "      <td>1</td>\n",
       "      <td>0</td>\n",
       "      <td>0</td>\n",
       "      <td>0</td>\n",
       "      <td>0</td>\n",
       "      <td>0</td>\n",
       "      <td>0</td>\n",
       "      <td>1</td>\n",
       "      <td>0</td>\n",
       "      <td>0</td>\n",
       "      <td>0</td>\n",
       "      <td>0</td>\n",
       "      <td>0</td>\n",
       "      <td>0</td>\n",
       "      <td>1</td>\n",
       "    </tr>\n",
       "    <tr>\n",
       "      <th>143935</th>\n",
       "      <td>1</td>\n",
       "      <td>36</td>\n",
       "      <td>236</td>\n",
       "      <td>2</td>\n",
       "      <td>8.01</td>\n",
       "      <td>26.5</td>\n",
       "      <td>0.5</td>\n",
       "      <td>0.0</td>\n",
       "      <td>33.36</td>\n",
       "      <td>1</td>\n",
       "      <td>1.667000e-06</td>\n",
       "      <td>1</td>\n",
       "      <td>0</td>\n",
       "      <td>0</td>\n",
       "      <td>0</td>\n",
       "      <td>0</td>\n",
       "      <td>1</td>\n",
       "      <td>0</td>\n",
       "      <td>0</td>\n",
       "      <td>0</td>\n",
       "      <td>0</td>\n",
       "      <td>0</td>\n",
       "      <td>0</td>\n",
       "      <td>1</td>\n",
       "      <td>0</td>\n",
       "      <td>0</td>\n",
       "      <td>0</td>\n",
       "      <td>1</td>\n",
       "    </tr>\n",
       "    <tr>\n",
       "      <th>685936</th>\n",
       "      <td>1</td>\n",
       "      <td>260</td>\n",
       "      <td>7</td>\n",
       "      <td>1</td>\n",
       "      <td>1.39</td>\n",
       "      <td>7.5</td>\n",
       "      <td>0.0</td>\n",
       "      <td>0.0</td>\n",
       "      <td>12.33</td>\n",
       "      <td>1</td>\n",
       "      <td>4.680000e-07</td>\n",
       "      <td>1</td>\n",
       "      <td>0</td>\n",
       "      <td>0</td>\n",
       "      <td>0</td>\n",
       "      <td>1</td>\n",
       "      <td>0</td>\n",
       "      <td>0</td>\n",
       "      <td>0</td>\n",
       "      <td>0</td>\n",
       "      <td>0</td>\n",
       "      <td>0</td>\n",
       "      <td>1</td>\n",
       "      <td>0</td>\n",
       "      <td>0</td>\n",
       "      <td>0</td>\n",
       "      <td>0</td>\n",
       "      <td>1</td>\n",
       "    </tr>\n",
       "  </tbody>\n",
       "</table>\n",
       "</div>"
      ],
      "text/plain": [
       "        RatecodeID  PULocationID  DOLocationID  passenger_count  \\\n",
       "455527           1             7           237                1   \n",
       "934951           1            66            45                1   \n",
       "342620           1            42            74                1   \n",
       "143935           1            36           236                2   \n",
       "685936           1           260             7                1   \n",
       "\n",
       "        trip_distance  fare_amount  extra  tolls_amount  total_amount  \\\n",
       "455527           4.09         27.5    0.0           0.0         33.96   \n",
       "934951           1.54          7.0    0.0           0.0          9.80   \n",
       "342620           2.26         10.5    0.0           0.0         13.56   \n",
       "143935           8.01         26.5    0.5           0.0         33.36   \n",
       "685936           1.39          7.5    0.0           0.0         12.33   \n",
       "\n",
       "        trip_type  trip_duration  store_and_fwd_flag_N  store_and_fwd_flag_Y  \\\n",
       "455527          1   2.728000e-06                     1                     0   \n",
       "934951          1   2.840000e-07                     1                     0   \n",
       "342620          1   7.850000e-07                     1                     0   \n",
       "143935          1   1.667000e-06                     1                     0   \n",
       "685936          1   4.680000e-07                     1                     0   \n",
       "\n",
       "        pickup_day_Friday  pickup_day_Monday  pickup_day_Saturday  \\\n",
       "455527                  0                  0                    0   \n",
       "934951                  1                  0                    0   \n",
       "342620                  1                  0                    0   \n",
       "143935                  0                  0                    0   \n",
       "685936                  0                  0                    1   \n",
       "\n",
       "        pickup_day_Sunday  pickup_day_Thursday  pickup_day_Tuesday  \\\n",
       "455527                  1                    0                   0   \n",
       "934951                  0                    0                   0   \n",
       "342620                  0                    0                   0   \n",
       "143935                  1                    0                   0   \n",
       "685936                  0                    0                   0   \n",
       "\n",
       "        pickup_day_Wednesday  dropoff_day_Friday  dropoff_day_Monday  \\\n",
       "455527                     0                   0                   0   \n",
       "934951                     0                   1                   0   \n",
       "342620                     0                   1                   0   \n",
       "143935                     0                   0                   0   \n",
       "685936                     0                   0                   0   \n",
       "\n",
       "        dropoff_day_Saturday  dropoff_day_Sunday  dropoff_day_Thursday  \\\n",
       "455527                     0                   1                     0   \n",
       "934951                     0                   0                     0   \n",
       "342620                     0                   0                     0   \n",
       "143935                     0                   1                     0   \n",
       "685936                     1                   0                     0   \n",
       "\n",
       "        dropoff_day_Tuesday  dropoff_day_Wednesday  Anomaly  \n",
       "455527                    0                      0        1  \n",
       "934951                    0                      0        1  \n",
       "342620                    0                      0        1  \n",
       "143935                    0                      0        1  \n",
       "685936                    0                      0        1  "
      ]
     },
     "execution_count": 448,
     "metadata": {},
     "output_type": "execute_result"
    }
   ],
   "source": [
    "#Isolation Forest model used to find out anomaly and save it in a separate column\n",
    "from sklearn.ensemble import IsolationForest\n",
    "clf = IsolationForest(random_state = 42, contamination = 0.01)\n",
    "X_train['Anomaly'] = clf.fit_predict(X_train[['trip_distance', 'trip_duration']])\n",
    "X_train.head()"
   ]
  },
  {
   "cell_type": "code",
   "execution_count": 456,
   "metadata": {},
   "outputs": [
    {
     "data": {
      "text/plain": [
       " 1    460825\n",
       "-1      4643\n",
       "Name: Anomaly, dtype: int64"
      ]
     },
     "execution_count": 456,
     "metadata": {},
     "output_type": "execute_result"
    }
   ],
   "source": [
    "#Value count shows 4643 datapoints are outliers which can impact model performance\n",
    "X_train['Anomaly'].value_counts()"
   ]
  },
  {
   "cell_type": "code",
   "execution_count": 452,
   "metadata": {},
   "outputs": [
    {
     "data": {
      "image/png": "[encoded data removed]",
      "text/plain": [
       "<Figure size 1080x504 with 1 Axes>"
      ]
     },
     "metadata": {
      "needs_background": "light"
     },
     "output_type": "display_data"
    }
   ],
   "source": [
    "#Visualization for outlier vs normal trips\n",
    "plt.title(\"Outlier vs. Normal Trips\")\n",
    "plt.rcParams['figure.figsize'] = [15, 7]\n",
    "\n",
    "plt.scatter(X_train.loc[X_train.Anomaly == -1, ['trip_distance']], \n",
    "                 X_train.loc[X_train.Anomaly == -1, ['trip_duration']], c='red')\n",
    "plt.scatter(X_train.loc[X_train.Anomaly == 1, ['trip_distance']], \n",
    "                 X_train.loc[X_train.Anomaly == 1, ['trip_duration']], c='green')\n",
    "plt.show()"
   ]
  },
  {
   "cell_type": "code",
   "execution_count": 455,
   "metadata": {},
   "outputs": [
    {
     "data": {
      "text/plain": [
       "<matplotlib.axes._subplots.AxesSubplot at 0x19f45e4abb0>"
      ]
     },
     "execution_count": 455,
     "metadata": {},
     "output_type": "execute_result"
    },
    {
     "data": {
      "image/png": "[encoded data removed]",
      "text/plain": [
       "<Figure size 1080x504 with 1 Axes>"
      ]
     },
     "metadata": {
      "needs_background": "light"
     },
     "output_type": "display_data"
    }
   ],
   "source": [
    "# here is the scatterplot of inlier data. Training this dataset will help to improve the RMSE much better as we are removing anolamy here.\n",
    "X_train_new = X_train.loc[X_train['Anomaly'] == 1].copy()\n",
    "sns.scatterplot(data=X_train_new, x=\"trip_distance\", y=\"trip_duration\")"
   ]
  },
  {
   "cell_type": "markdown",
   "metadata": {},
   "source": [
    "# Conclusion"
   ]
  },
  {
   "cell_type": "markdown",
   "metadata": {},
   "source": [
    "Based on above shown 5 steps here are some highlights on the dataset:\n",
    "    1. Data Quality is average and in many scenario, data have been wrongly collected which create anomaly in pattern.\n",
    "    2. The analysis reveals that the most trips happened on Saturday and Friday, whereas least trips happened on Monday.\n",
    "    3. The anaysis direct that most trips happen in the evening and least trip happen in the morning.\n",
    "    4. To find a pattern for better tip amount, taxi drivers will be mainly dependent on total amount and fare amount the  \n",
    "       passengers are paying.\n",
    "    5. Anomaly found between trip duration and trip distance. If the outliers can be removed, the model will perform better to \n",
    "       find pattern of best trips to get more tip amount.\n",
    "    6. This assignment is done in 2 days with optimum solution. If more time can be spent, many other observations can be \n",
    "       analyzed in detail for future scope.     \n",
    "       "
   ]
  }
 ],
 "metadata": {
  "kernelspec": {
   "display_name": "Python 3",
   "language": "python",
   "name": "python3"
  },
  "language_info": {
   "codemirror_mode": {
    "name": "ipython",
    "version": 3
   },
   "file_extension": ".py",
   "mimetype": "text/x-python",
   "name": "python",
   "nbconvert_exporter": "python",
   "pygments_lexer": "ipython3",
   "version": "3.8.3"
  }
 },
 "nbformat": 4,
 "nbformat_minor": 4
}
